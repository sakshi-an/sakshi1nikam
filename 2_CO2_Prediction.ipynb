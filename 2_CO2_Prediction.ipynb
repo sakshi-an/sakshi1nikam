{
 "cells": [
  {
   "cell_type": "code",
   "execution_count": 1,
   "id": "b8e2a854",
   "metadata": {},
   "outputs": [],
   "source": [
    "import matplotlib.pyplot as plt\n",
    "import pandas as pd\n",
    "import pylab as pl\n",
    "import numpy as np\n",
    "%matplotlib inline"
   ]
  },
  {
   "cell_type": "code",
   "execution_count": 9,
   "id": "120c6025",
   "metadata": {},
   "outputs": [],
   "source": [
    "df=pd.read_csv(r\"C:\\Users\\Admin\\Desktop\\ML Projects\\1_CO2_Simple Linear Regression\\Simple Linear Regression/FuelConsumptionCo2.csv\")"
   ]
  },
  {
   "cell_type": "markdown",
   "id": "db592a0c",
   "metadata": {},
   "source": [
    "EDA"
   ]
  },
  {
   "cell_type": "code",
   "execution_count": 10,
   "id": "fa39f607",
   "metadata": {},
   "outputs": [
    {
     "data": {
      "text/plain": [
       "(1067, 13)"
      ]
     },
     "execution_count": 10,
     "metadata": {},
     "output_type": "execute_result"
    }
   ],
   "source": [
    "df.shape"
   ]
  },
  {
   "cell_type": "code",
   "execution_count": 11,
   "id": "40c80f95",
   "metadata": {},
   "outputs": [
    {
     "data": {
      "text/html": [
       "<div>\n",
       "<style scoped>\n",
       "    .dataframe tbody tr th:only-of-type {\n",
       "        vertical-align: middle;\n",
       "    }\n",
       "\n",
       "    .dataframe tbody tr th {\n",
       "        vertical-align: top;\n",
       "    }\n",
       "\n",
       "    .dataframe thead th {\n",
       "        text-align: right;\n",
       "    }\n",
       "</style>\n",
       "<table border=\"1\" class=\"dataframe\">\n",
       "  <thead>\n",
       "    <tr style=\"text-align: right;\">\n",
       "      <th></th>\n",
       "      <th>MODELYEAR</th>\n",
       "      <th>ENGINESIZE</th>\n",
       "      <th>CYLINDERS</th>\n",
       "      <th>FUELCONSUMPTION_CITY</th>\n",
       "      <th>FUELCONSUMPTION_HWY</th>\n",
       "      <th>FUELCONSUMPTION_COMB</th>\n",
       "      <th>FUELCONSUMPTION_COMB_MPG</th>\n",
       "      <th>CO2EMISSIONS</th>\n",
       "    </tr>\n",
       "  </thead>\n",
       "  <tbody>\n",
       "    <tr>\n",
       "      <th>count</th>\n",
       "      <td>1067.0</td>\n",
       "      <td>1067.000000</td>\n",
       "      <td>1067.000000</td>\n",
       "      <td>1067.000000</td>\n",
       "      <td>1067.000000</td>\n",
       "      <td>1067.000000</td>\n",
       "      <td>1067.000000</td>\n",
       "      <td>1067.000000</td>\n",
       "    </tr>\n",
       "    <tr>\n",
       "      <th>mean</th>\n",
       "      <td>2014.0</td>\n",
       "      <td>3.346298</td>\n",
       "      <td>5.794752</td>\n",
       "      <td>13.296532</td>\n",
       "      <td>9.474602</td>\n",
       "      <td>11.580881</td>\n",
       "      <td>26.441425</td>\n",
       "      <td>256.228679</td>\n",
       "    </tr>\n",
       "    <tr>\n",
       "      <th>std</th>\n",
       "      <td>0.0</td>\n",
       "      <td>1.415895</td>\n",
       "      <td>1.797447</td>\n",
       "      <td>4.101253</td>\n",
       "      <td>2.794510</td>\n",
       "      <td>3.485595</td>\n",
       "      <td>7.468702</td>\n",
       "      <td>63.372304</td>\n",
       "    </tr>\n",
       "    <tr>\n",
       "      <th>min</th>\n",
       "      <td>2014.0</td>\n",
       "      <td>1.000000</td>\n",
       "      <td>3.000000</td>\n",
       "      <td>4.600000</td>\n",
       "      <td>4.900000</td>\n",
       "      <td>4.700000</td>\n",
       "      <td>11.000000</td>\n",
       "      <td>108.000000</td>\n",
       "    </tr>\n",
       "    <tr>\n",
       "      <th>25%</th>\n",
       "      <td>2014.0</td>\n",
       "      <td>2.000000</td>\n",
       "      <td>4.000000</td>\n",
       "      <td>10.250000</td>\n",
       "      <td>7.500000</td>\n",
       "      <td>9.000000</td>\n",
       "      <td>21.000000</td>\n",
       "      <td>207.000000</td>\n",
       "    </tr>\n",
       "    <tr>\n",
       "      <th>50%</th>\n",
       "      <td>2014.0</td>\n",
       "      <td>3.400000</td>\n",
       "      <td>6.000000</td>\n",
       "      <td>12.600000</td>\n",
       "      <td>8.800000</td>\n",
       "      <td>10.900000</td>\n",
       "      <td>26.000000</td>\n",
       "      <td>251.000000</td>\n",
       "    </tr>\n",
       "    <tr>\n",
       "      <th>75%</th>\n",
       "      <td>2014.0</td>\n",
       "      <td>4.300000</td>\n",
       "      <td>8.000000</td>\n",
       "      <td>15.550000</td>\n",
       "      <td>10.850000</td>\n",
       "      <td>13.350000</td>\n",
       "      <td>31.000000</td>\n",
       "      <td>294.000000</td>\n",
       "    </tr>\n",
       "    <tr>\n",
       "      <th>max</th>\n",
       "      <td>2014.0</td>\n",
       "      <td>8.400000</td>\n",
       "      <td>12.000000</td>\n",
       "      <td>30.200000</td>\n",
       "      <td>20.500000</td>\n",
       "      <td>25.800000</td>\n",
       "      <td>60.000000</td>\n",
       "      <td>488.000000</td>\n",
       "    </tr>\n",
       "  </tbody>\n",
       "</table>\n",
       "</div>"
      ],
      "text/plain": [
       "       MODELYEAR   ENGINESIZE    CYLINDERS  FUELCONSUMPTION_CITY  \\\n",
       "count     1067.0  1067.000000  1067.000000           1067.000000   \n",
       "mean      2014.0     3.346298     5.794752             13.296532   \n",
       "std          0.0     1.415895     1.797447              4.101253   \n",
       "min       2014.0     1.000000     3.000000              4.600000   \n",
       "25%       2014.0     2.000000     4.000000             10.250000   \n",
       "50%       2014.0     3.400000     6.000000             12.600000   \n",
       "75%       2014.0     4.300000     8.000000             15.550000   \n",
       "max       2014.0     8.400000    12.000000             30.200000   \n",
       "\n",
       "       FUELCONSUMPTION_HWY  FUELCONSUMPTION_COMB  FUELCONSUMPTION_COMB_MPG  \\\n",
       "count          1067.000000           1067.000000               1067.000000   \n",
       "mean              9.474602             11.580881                 26.441425   \n",
       "std               2.794510              3.485595                  7.468702   \n",
       "min               4.900000              4.700000                 11.000000   \n",
       "25%               7.500000              9.000000                 21.000000   \n",
       "50%               8.800000             10.900000                 26.000000   \n",
       "75%              10.850000             13.350000                 31.000000   \n",
       "max              20.500000             25.800000                 60.000000   \n",
       "\n",
       "       CO2EMISSIONS  \n",
       "count   1067.000000  \n",
       "mean     256.228679  \n",
       "std       63.372304  \n",
       "min      108.000000  \n",
       "25%      207.000000  \n",
       "50%      251.000000  \n",
       "75%      294.000000  \n",
       "max      488.000000  "
      ]
     },
     "execution_count": 11,
     "metadata": {},
     "output_type": "execute_result"
    }
   ],
   "source": [
    "df.describe()"
   ]
  },
  {
   "cell_type": "code",
   "execution_count": 12,
   "id": "c5698642",
   "metadata": {},
   "outputs": [
    {
     "name": "stdout",
     "output_type": "stream",
     "text": [
      "<class 'pandas.core.frame.DataFrame'>\n",
      "RangeIndex: 1067 entries, 0 to 1066\n",
      "Data columns (total 13 columns):\n",
      " #   Column                    Non-Null Count  Dtype  \n",
      "---  ------                    --------------  -----  \n",
      " 0   MODELYEAR                 1067 non-null   int64  \n",
      " 1   MAKE                      1067 non-null   object \n",
      " 2   MODEL                     1067 non-null   object \n",
      " 3   VEHICLECLASS              1067 non-null   object \n",
      " 4   ENGINESIZE                1067 non-null   float64\n",
      " 5   CYLINDERS                 1067 non-null   int64  \n",
      " 6   TRANSMISSION              1067 non-null   object \n",
      " 7   FUELTYPE                  1067 non-null   object \n",
      " 8   FUELCONSUMPTION_CITY      1067 non-null   float64\n",
      " 9   FUELCONSUMPTION_HWY       1067 non-null   float64\n",
      " 10  FUELCONSUMPTION_COMB      1067 non-null   float64\n",
      " 11  FUELCONSUMPTION_COMB_MPG  1067 non-null   int64  \n",
      " 12  CO2EMISSIONS              1067 non-null   int64  \n",
      "dtypes: float64(4), int64(4), object(5)\n",
      "memory usage: 108.5+ KB\n"
     ]
    }
   ],
   "source": [
    "df.info()"
   ]
  },
  {
   "cell_type": "code",
   "execution_count": 13,
   "id": "35e025c4",
   "metadata": {},
   "outputs": [],
   "source": [
    "df2=df[[\"ENGINESIZE\",\"CYLINDERS\",\"FUELCONSUMPTION_COMB\",\"CO2EMISSIONS\" ]]"
   ]
  },
  {
   "cell_type": "code",
   "execution_count": 14,
   "id": "28592d52",
   "metadata": {},
   "outputs": [
    {
     "data": {
      "text/html": [
       "<div>\n",
       "<style scoped>\n",
       "    .dataframe tbody tr th:only-of-type {\n",
       "        vertical-align: middle;\n",
       "    }\n",
       "\n",
       "    .dataframe tbody tr th {\n",
       "        vertical-align: top;\n",
       "    }\n",
       "\n",
       "    .dataframe thead th {\n",
       "        text-align: right;\n",
       "    }\n",
       "</style>\n",
       "<table border=\"1\" class=\"dataframe\">\n",
       "  <thead>\n",
       "    <tr style=\"text-align: right;\">\n",
       "      <th></th>\n",
       "      <th>ENGINESIZE</th>\n",
       "      <th>CYLINDERS</th>\n",
       "      <th>FUELCONSUMPTION_COMB</th>\n",
       "      <th>CO2EMISSIONS</th>\n",
       "    </tr>\n",
       "  </thead>\n",
       "  <tbody>\n",
       "    <tr>\n",
       "      <th>0</th>\n",
       "      <td>2.0</td>\n",
       "      <td>4</td>\n",
       "      <td>8.5</td>\n",
       "      <td>196</td>\n",
       "    </tr>\n",
       "    <tr>\n",
       "      <th>1</th>\n",
       "      <td>2.4</td>\n",
       "      <td>4</td>\n",
       "      <td>9.6</td>\n",
       "      <td>221</td>\n",
       "    </tr>\n",
       "    <tr>\n",
       "      <th>2</th>\n",
       "      <td>1.5</td>\n",
       "      <td>4</td>\n",
       "      <td>5.9</td>\n",
       "      <td>136</td>\n",
       "    </tr>\n",
       "    <tr>\n",
       "      <th>3</th>\n",
       "      <td>3.5</td>\n",
       "      <td>6</td>\n",
       "      <td>11.1</td>\n",
       "      <td>255</td>\n",
       "    </tr>\n",
       "    <tr>\n",
       "      <th>4</th>\n",
       "      <td>3.5</td>\n",
       "      <td>6</td>\n",
       "      <td>10.6</td>\n",
       "      <td>244</td>\n",
       "    </tr>\n",
       "  </tbody>\n",
       "</table>\n",
       "</div>"
      ],
      "text/plain": [
       "   ENGINESIZE  CYLINDERS  FUELCONSUMPTION_COMB  CO2EMISSIONS\n",
       "0         2.0          4                   8.5           196\n",
       "1         2.4          4                   9.6           221\n",
       "2         1.5          4                   5.9           136\n",
       "3         3.5          6                  11.1           255\n",
       "4         3.5          6                  10.6           244"
      ]
     },
     "execution_count": 14,
     "metadata": {},
     "output_type": "execute_result"
    }
   ],
   "source": [
    "df2.head()"
   ]
  },
  {
   "cell_type": "code",
   "execution_count": 15,
   "id": "1d8ef21c",
   "metadata": {},
   "outputs": [
    {
     "data": {
      "text/plain": [
       "array([[<AxesSubplot:title={'center':'ENGINESIZE'}>,\n",
       "        <AxesSubplot:title={'center':'CYLINDERS'}>],\n",
       "       [<AxesSubplot:title={'center':'FUELCONSUMPTION_COMB'}>,\n",
       "        <AxesSubplot:title={'center':'CO2EMISSIONS'}>]], dtype=object)"
      ]
     },
     "execution_count": 15,
     "metadata": {},
     "output_type": "execute_result"
    },
    {
     "data": {
      "image/png": "[encoded data removed]",
      "text/plain": [
       "<Figure size 432x288 with 4 Axes>"
      ]
     },
     "metadata": {
      "needs_background": "light"
     },
     "output_type": "display_data"
    }
   ],
   "source": [
    "df2.hist()"
   ]
  },
  {
   "cell_type": "code",
   "execution_count": 17,
   "id": "fab21783",
   "metadata": {},
   "outputs": [
    {
     "data": {
      "text/plain": [
       "Text(0, 0.5, 'CO2EMISSIONS')"
      ]
     },
     "execution_count": 17,
     "metadata": {},
     "output_type": "execute_result"
    },
    {
     "data": {
      "image/png": "[encoded data removed]",
      "text/plain": [
       "<Figure size 432x288 with 1 Axes>"
      ]
     },
     "metadata": {
      "needs_background": "light"
     },
     "output_type": "display_data"
    }
   ],
   "source": [
    "plt.scatter(df.ENGINESIZE,df.CO2EMISSIONS)\n",
    "plt.xlabel(\"ENGINESIZE\")\n",
    "plt.ylabel(\"CO2EMISSIONS\")"
   ]
  },
  {
   "cell_type": "code",
   "execution_count": 18,
   "id": "f637b47b",
   "metadata": {},
   "outputs": [
    {
     "data": {
      "text/plain": [
       "Text(0, 0.5, 'CO2EMISSIONS')"
      ]
     },
     "execution_count": 18,
     "metadata": {},
     "output_type": "execute_result"
    },
    {
     "data": {
      "image/png": "[encoded data removed]",
      "text/plain": [
       "<Figure size 432x288 with 1 Axes>"
      ]
     },
     "metadata": {
      "needs_background": "light"
     },
     "output_type": "display_data"
    }
   ],
   "source": [
    "plt.scatter(df.CYLINDERS,df.CO2EMISSIONS)\n",
    "plt.xlabel(\"CYLINDERS\")\n",
    "plt.ylabel(\"CO2EMISSIONS\")"
   ]
  },
  {
   "cell_type": "code",
   "execution_count": 20,
   "id": "57812a0d",
   "metadata": {},
   "outputs": [
    {
     "data": {
      "text/plain": [
       "0.8496845920141145"
      ]
     },
     "execution_count": 20,
     "metadata": {},
     "output_type": "execute_result"
    }
   ],
   "source": [
    "df[\"CYLINDERS\"].corr(df[\"CO2EMISSIONS\"])"
   ]
  },
  {
   "cell_type": "code",
   "execution_count": 21,
   "id": "c99c0442",
   "metadata": {},
   "outputs": [
    {
     "data": {
      "text/plain": [
       "0.8921285933157568"
      ]
     },
     "execution_count": 21,
     "metadata": {},
     "output_type": "execute_result"
    }
   ],
   "source": [
    "df[\"FUELCONSUMPTION_COMB\"].corr(df[\"CO2EMISSIONS\"])"
   ]
  },
  {
   "cell_type": "markdown",
   "id": "b2ddb6c6",
   "metadata": {},
   "source": [
    "Split the training and testing data"
   ]
  },
  {
   "cell_type": "code",
   "execution_count": 27,
   "id": "327d0293",
   "metadata": {},
   "outputs": [],
   "source": [
    "msk=np.random.rand(len(df))< 0.8\n",
    "train= df2[msk]\n",
    "test=df2[~msk]"
   ]
  },
  {
   "cell_type": "code",
   "execution_count": 28,
   "id": "cbe4aca8",
   "metadata": {},
   "outputs": [
    {
     "data": {
      "text/html": [
       "<div>\n",
       "<style scoped>\n",
       "    .dataframe tbody tr th:only-of-type {\n",
       "        vertical-align: middle;\n",
       "    }\n",
       "\n",
       "    .dataframe tbody tr th {\n",
       "        vertical-align: top;\n",
       "    }\n",
       "\n",
       "    .dataframe thead th {\n",
       "        text-align: right;\n",
       "    }\n",
       "</style>\n",
       "<table border=\"1\" class=\"dataframe\">\n",
       "  <thead>\n",
       "    <tr style=\"text-align: right;\">\n",
       "      <th></th>\n",
       "      <th>ENGINESIZE</th>\n",
       "      <th>CYLINDERS</th>\n",
       "      <th>FUELCONSUMPTION_COMB</th>\n",
       "      <th>CO2EMISSIONS</th>\n",
       "    </tr>\n",
       "  </thead>\n",
       "  <tbody>\n",
       "    <tr>\n",
       "      <th>0</th>\n",
       "      <td>2.0</td>\n",
       "      <td>4</td>\n",
       "      <td>8.5</td>\n",
       "      <td>196</td>\n",
       "    </tr>\n",
       "    <tr>\n",
       "      <th>1</th>\n",
       "      <td>2.4</td>\n",
       "      <td>4</td>\n",
       "      <td>9.6</td>\n",
       "      <td>221</td>\n",
       "    </tr>\n",
       "    <tr>\n",
       "      <th>2</th>\n",
       "      <td>1.5</td>\n",
       "      <td>4</td>\n",
       "      <td>5.9</td>\n",
       "      <td>136</td>\n",
       "    </tr>\n",
       "    <tr>\n",
       "      <th>3</th>\n",
       "      <td>3.5</td>\n",
       "      <td>6</td>\n",
       "      <td>11.1</td>\n",
       "      <td>255</td>\n",
       "    </tr>\n",
       "    <tr>\n",
       "      <th>4</th>\n",
       "      <td>3.5</td>\n",
       "      <td>6</td>\n",
       "      <td>10.6</td>\n",
       "      <td>244</td>\n",
       "    </tr>\n",
       "  </tbody>\n",
       "</table>\n",
       "</div>"
      ],
      "text/plain": [
       "   ENGINESIZE  CYLINDERS  FUELCONSUMPTION_COMB  CO2EMISSIONS\n",
       "0         2.0          4                   8.5           196\n",
       "1         2.4          4                   9.6           221\n",
       "2         1.5          4                   5.9           136\n",
       "3         3.5          6                  11.1           255\n",
       "4         3.5          6                  10.6           244"
      ]
     },
     "execution_count": 28,
     "metadata": {},
     "output_type": "execute_result"
    }
   ],
   "source": [
    "train.head()"
   ]
  },
  {
   "cell_type": "code",
   "execution_count": 29,
   "id": "66e4563a",
   "metadata": {},
   "outputs": [
    {
     "data": {
      "text/html": [
       "<div>\n",
       "<style scoped>\n",
       "    .dataframe tbody tr th:only-of-type {\n",
       "        vertical-align: middle;\n",
       "    }\n",
       "\n",
       "    .dataframe tbody tr th {\n",
       "        vertical-align: top;\n",
       "    }\n",
       "\n",
       "    .dataframe thead th {\n",
       "        text-align: right;\n",
       "    }\n",
       "</style>\n",
       "<table border=\"1\" class=\"dataframe\">\n",
       "  <thead>\n",
       "    <tr style=\"text-align: right;\">\n",
       "      <th></th>\n",
       "      <th>ENGINESIZE</th>\n",
       "      <th>CYLINDERS</th>\n",
       "      <th>FUELCONSUMPTION_COMB</th>\n",
       "      <th>CO2EMISSIONS</th>\n",
       "    </tr>\n",
       "  </thead>\n",
       "  <tbody>\n",
       "    <tr>\n",
       "      <th>7</th>\n",
       "      <td>3.7</td>\n",
       "      <td>6</td>\n",
       "      <td>11.1</td>\n",
       "      <td>255</td>\n",
       "    </tr>\n",
       "    <tr>\n",
       "      <th>10</th>\n",
       "      <td>2.4</td>\n",
       "      <td>4</td>\n",
       "      <td>9.8</td>\n",
       "      <td>225</td>\n",
       "    </tr>\n",
       "    <tr>\n",
       "      <th>15</th>\n",
       "      <td>4.7</td>\n",
       "      <td>8</td>\n",
       "      <td>15.4</td>\n",
       "      <td>354</td>\n",
       "    </tr>\n",
       "    <tr>\n",
       "      <th>21</th>\n",
       "      <td>2.0</td>\n",
       "      <td>4</td>\n",
       "      <td>9.3</td>\n",
       "      <td>214</td>\n",
       "    </tr>\n",
       "    <tr>\n",
       "      <th>22</th>\n",
       "      <td>2.0</td>\n",
       "      <td>4</td>\n",
       "      <td>10.0</td>\n",
       "      <td>230</td>\n",
       "    </tr>\n",
       "  </tbody>\n",
       "</table>\n",
       "</div>"
      ],
      "text/plain": [
       "    ENGINESIZE  CYLINDERS  FUELCONSUMPTION_COMB  CO2EMISSIONS\n",
       "7          3.7          6                  11.1           255\n",
       "10         2.4          4                   9.8           225\n",
       "15         4.7          8                  15.4           354\n",
       "21         2.0          4                   9.3           214\n",
       "22         2.0          4                  10.0           230"
      ]
     },
     "execution_count": 29,
     "metadata": {},
     "output_type": "execute_result"
    }
   ],
   "source": [
    "test.head()"
   ]
  },
  {
   "cell_type": "code",
   "execution_count": 31,
   "id": "f9f83ea5",
   "metadata": {},
   "outputs": [
    {
     "data": {
      "text/plain": [
       "(853, 4)"
      ]
     },
     "execution_count": 31,
     "metadata": {},
     "output_type": "execute_result"
    }
   ],
   "source": [
    "train.shape\n"
   ]
  },
  {
   "cell_type": "code",
   "execution_count": 32,
   "id": "01c55fda",
   "metadata": {},
   "outputs": [
    {
     "data": {
      "text/plain": [
       "(214, 4)"
      ]
     },
     "execution_count": 32,
     "metadata": {},
     "output_type": "execute_result"
    }
   ],
   "source": [
    "test.shape"
   ]
  },
  {
   "cell_type": "code",
   "execution_count": 22,
   "id": "e22a4b64",
   "metadata": {},
   "outputs": [],
   "source": [
    "# Create the model"
   ]
  },
  {
   "cell_type": "code",
   "execution_count": 23,
   "id": "3a06becb",
   "metadata": {},
   "outputs": [],
   "source": [
    "from sklearn import linear_model"
   ]
  },
  {
   "cell_type": "code",
   "execution_count": 26,
   "id": "7c973f24",
   "metadata": {},
   "outputs": [],
   "source": [
    "clf=linear_model.LinearRegression()"
   ]
  },
  {
   "cell_type": "markdown",
   "id": "59b685ee",
   "metadata": {},
   "source": [
    "Convert features and targets into Array"
   ]
  },
  {
   "cell_type": "code",
   "execution_count": 35,
   "id": "84693ac7",
   "metadata": {},
   "outputs": [],
   "source": [
    "x_train= np.asanyarray(train[[\"ENGINESIZE\"]])"
   ]
  },
  {
   "cell_type": "code",
   "execution_count": 45,
   "id": "cef3741d",
   "metadata": {},
   "outputs": [],
   "source": [
    "y_train= np.asanyarray(train[[\"CO2EMISSIONS\"]])"
   ]
  },
  {
   "cell_type": "code",
   "execution_count": 46,
   "id": "60f15c32",
   "metadata": {},
   "outputs": [],
   "source": [
    "x_test= np.asanyarray(test[[\"ENGINESIZE\"]])"
   ]
  },
  {
   "cell_type": "code",
   "execution_count": 47,
   "id": "2e5ed775",
   "metadata": {},
   "outputs": [],
   "source": [
    "y_test= np.asanyarray(test[[\"CO2EMISSIONS\"]])"
   ]
  },
  {
   "cell_type": "code",
   "execution_count": 48,
   "id": "7b75dd86",
   "metadata": {},
   "outputs": [],
   "source": [
    "# Lets use fit method for traiing"
   ]
  },
  {
   "cell_type": "code",
   "execution_count": 49,
   "id": "be58160c",
   "metadata": {},
   "outputs": [
    {
     "data": {
      "text/plain": [
       "LinearRegression()"
      ]
     },
     "execution_count": 49,
     "metadata": {},
     "output_type": "execute_result"
    }
   ],
   "source": [
    "clf.fit(x_train,y_train)"
   ]
  },
  {
   "cell_type": "code",
   "execution_count": 67,
   "id": "b51b8120",
   "metadata": {},
   "outputs": [],
   "source": [
    "c=clf.intercept_"
   ]
  },
  {
   "cell_type": "code",
   "execution_count": 68,
   "id": "7f2bd582",
   "metadata": {},
   "outputs": [],
   "source": [
    "m=clf.coef_\n"
   ]
  },
  {
   "cell_type": "code",
   "execution_count": 69,
   "id": "00f4fd97",
   "metadata": {},
   "outputs": [
    {
     "data": {
      "text/plain": [
       "array([127.08635835])"
      ]
     },
     "execution_count": 69,
     "metadata": {},
     "output_type": "execute_result"
    }
   ],
   "source": [
    "c"
   ]
  },
  {
   "cell_type": "code",
   "execution_count": 70,
   "id": "7dd039fe",
   "metadata": {},
   "outputs": [
    {
     "data": {
      "text/plain": [
       "array([[38.55605508]])"
      ]
     },
     "execution_count": 70,
     "metadata": {},
     "output_type": "execute_result"
    }
   ],
   "source": [
    "m"
   ]
  },
  {
   "cell_type": "markdown",
   "id": "f1a7fa14",
   "metadata": {},
   "source": [
    "Co2 Emission= m*EngineSize+ C"
   ]
  },
  {
   "cell_type": "code",
   "execution_count": 56,
   "id": "c19c7563",
   "metadata": {},
   "outputs": [
    {
     "data": {
      "text/plain": [
       "array([[269.74376215],\n",
       "       [219.62089054],\n",
       "       [308.29981723],\n",
       "       [204.19846851],\n",
       "       [204.19846851],\n",
       "       [242.75452359],\n",
       "       [242.75452359],\n",
       "       [281.31057867],\n",
       "       [242.75452359],\n",
       "       [289.02178969],\n",
       "       [327.57784477],\n",
       "       [289.02178969],\n",
       "       [281.31057867],\n",
       "       [281.31057867],\n",
       "       [204.19846851],\n",
       "       [204.19846851],\n",
       "       [204.19846851],\n",
       "       [242.75452359],\n",
       "       [242.75452359],\n",
       "       [242.75452359],\n",
       "       [296.7330007 ],\n",
       "       [296.7330007 ],\n",
       "       [358.42268883],\n",
       "       [296.7330007 ],\n",
       "       [296.7330007 ],\n",
       "       [296.7330007 ],\n",
       "       [242.75452359],\n",
       "       [204.19846851],\n",
       "       [219.62089054],\n",
       "       [204.19846851],\n",
       "       [223.47649605],\n",
       "       [265.88815664],\n",
       "       [265.88815664],\n",
       "       [242.75452359],\n",
       "       [366.13389985],\n",
       "       [366.13389985],\n",
       "       [265.88815664],\n",
       "       [366.13389985],\n",
       "       [366.13389985],\n",
       "       [181.06483546],\n",
       "       [181.06483546],\n",
       "       [196.4872575 ],\n",
       "       [331.43345028],\n",
       "       [331.43345028],\n",
       "       [331.43345028],\n",
       "       [358.42268883],\n",
       "       [223.47649605],\n",
       "       [265.88815664],\n",
       "       [181.06483546],\n",
       "       [196.4872575 ],\n",
       "       [181.06483546],\n",
       "       [181.06483546],\n",
       "       [331.43345028],\n",
       "       [181.06483546],\n",
       "       [219.62089054],\n",
       "       [346.85587231],\n",
       "       [265.88815664],\n",
       "       [373.84511086],\n",
       "       [265.88815664],\n",
       "       [373.84511086],\n",
       "       [346.85587231],\n",
       "       [265.88815664],\n",
       "       [219.62089054],\n",
       "       [265.88815664],\n",
       "       [181.06483546],\n",
       "       [181.06483546],\n",
       "       [204.19846851],\n",
       "       [304.44421172],\n",
       "       [389.26753289],\n",
       "       [335.28905578],\n",
       "       [262.03255113],\n",
       "       [223.47649605],\n",
       "       [262.03255113],\n",
       "       [262.03255113],\n",
       "       [262.03255113],\n",
       "       [319.86663375],\n",
       "       [319.86663375],\n",
       "       [319.86663375],\n",
       "       [366.13389985],\n",
       "       [188.77604648],\n",
       "       [262.03255113],\n",
       "       [204.19846851],\n",
       "       [204.19846851],\n",
       "       [184.92044097],\n",
       "       [269.74376215],\n",
       "       [269.74376215],\n",
       "       [319.86663375],\n",
       "       [204.19846851],\n",
       "       [223.47649605],\n",
       "       [265.88815664],\n",
       "       [292.8773952 ],\n",
       "       [331.43345028],\n",
       "       [331.43345028],\n",
       "       [331.43345028],\n",
       "       [331.43345028],\n",
       "       [312.15542274],\n",
       "       [358.42268883],\n",
       "       [358.42268883],\n",
       "       [331.43345028],\n",
       "       [292.8773952 ],\n",
       "       [292.8773952 ],\n",
       "       [331.43345028],\n",
       "       [219.62089054],\n",
       "       [265.88815664],\n",
       "       [331.43345028],\n",
       "       [331.43345028],\n",
       "       [196.4872575 ],\n",
       "       [219.62089054],\n",
       "       [184.92044097],\n",
       "       [262.03255113],\n",
       "       [204.19846851],\n",
       "       [219.62089054],\n",
       "       [219.62089054],\n",
       "       [219.62089054],\n",
       "       [204.19846851],\n",
       "       [219.62089054],\n",
       "       [188.77604648],\n",
       "       [188.77604648],\n",
       "       [269.74376215],\n",
       "       [343.0002668 ],\n",
       "       [262.03255113],\n",
       "       [269.74376215],\n",
       "       [319.86663375],\n",
       "       [319.86663375],\n",
       "       [319.86663375],\n",
       "       [250.46573461],\n",
       "       [346.85587231],\n",
       "       [219.62089054],\n",
       "       [188.77604648],\n",
       "       [188.77604648],\n",
       "       [254.32134012],\n",
       "       [219.62089054],\n",
       "       [327.57784477],\n",
       "       [242.75452359],\n",
       "       [242.75452359],\n",
       "       [223.47649605],\n",
       "       [262.03255113],\n",
       "       [319.86663375],\n",
       "       [204.19846851],\n",
       "       [223.47649605],\n",
       "       [184.92044097],\n",
       "       [204.19846851],\n",
       "       [223.47649605],\n",
       "       [204.19846851],\n",
       "       [262.03255113],\n",
       "       [308.29981723],\n",
       "       [339.14466129],\n",
       "       [208.05407402],\n",
       "       [262.03255113],\n",
       "       [262.03255113],\n",
       "       [308.29981723],\n",
       "       [262.03255113],\n",
       "       [339.14466129],\n",
       "       [308.29981723],\n",
       "       [196.4872575 ],\n",
       "       [366.13389985],\n",
       "       [188.77604648],\n",
       "       [188.77604648],\n",
       "       [188.77604648],\n",
       "       [188.77604648],\n",
       "       [204.19846851],\n",
       "       [204.19846851],\n",
       "       [204.19846851],\n",
       "       [343.0002668 ],\n",
       "       [281.31057867],\n",
       "       [262.03255113],\n",
       "       [258.17694562],\n",
       "       [258.17694562],\n",
       "       [273.59936766],\n",
       "       [273.59936766],\n",
       "       [273.59936766],\n",
       "       [273.59936766],\n",
       "       [273.59936766],\n",
       "       [312.15542274],\n",
       "       [231.18770707],\n",
       "       [258.17694562],\n",
       "       [265.88815664],\n",
       "       [242.75452359],\n",
       "       [346.85587231],\n",
       "       [346.85587231],\n",
       "       [346.85587231],\n",
       "       [242.75452359],\n",
       "       [265.88815664],\n",
       "       [381.55632188],\n",
       "       [223.47649605],\n",
       "       [196.4872575 ],\n",
       "       [204.19846851],\n",
       "       [223.47649605],\n",
       "       [204.19846851],\n",
       "       [223.47649605],\n",
       "       [265.88815664],\n",
       "       [204.19846851],\n",
       "       [262.03255113],\n",
       "       [223.47649605],\n",
       "       [196.4872575 ],\n",
       "       [262.03255113],\n",
       "       [262.03255113],\n",
       "       [184.92044097],\n",
       "       [196.4872575 ],\n",
       "       [231.18770707],\n",
       "       [231.18770707],\n",
       "       [231.18770707],\n",
       "       [346.85587231],\n",
       "       [204.19846851],\n",
       "       [204.19846851],\n",
       "       [204.19846851],\n",
       "       [265.88815664],\n",
       "       [223.47649605],\n",
       "       [223.47649605],\n",
       "       [204.19846851],\n",
       "       [204.19846851],\n",
       "       [242.75452359],\n",
       "       [250.46573461],\n",
       "       [250.46573461]])"
      ]
     },
     "execution_count": 56,
     "metadata": {},
     "output_type": "execute_result"
    }
   ],
   "source": [
    "\n",
    "clf.predict(x_test)\n"
   ]
  },
  {
   "cell_type": "code",
   "execution_count": 57,
   "id": "d28687c6",
   "metadata": {},
   "outputs": [
    {
     "data": {
      "text/plain": [
       "(214, 1)"
      ]
     },
     "execution_count": 57,
     "metadata": {},
     "output_type": "execute_result"
    }
   ],
   "source": [
    "x_test.shape"
   ]
  },
  {
   "cell_type": "code",
   "execution_count": 58,
   "id": "93ac5bff",
   "metadata": {},
   "outputs": [
    {
     "data": {
      "text/plain": [
       "(214, 1)"
      ]
     },
     "execution_count": 58,
     "metadata": {},
     "output_type": "execute_result"
    }
   ],
   "source": [
    "clf.predict(x_test).shape"
   ]
  },
  {
   "cell_type": "code",
   "execution_count": 74,
   "id": "51d25496",
   "metadata": {},
   "outputs": [
    {
     "data": {
      "text/plain": [
       "array([[269.74376215],\n",
       "       [219.62089054]])"
      ]
     },
     "execution_count": 74,
     "metadata": {},
     "output_type": "execute_result"
    }
   ],
   "source": [
    "#Predicted Values\n",
    "clf.predict(x_test[0: 2])"
   ]
  },
  {
   "cell_type": "code",
   "execution_count": 75,
   "id": "11ff397e",
   "metadata": {},
   "outputs": [
    {
     "data": {
      "text/plain": [
       "array([[3.7],\n",
       "       [2.4]])"
      ]
     },
     "execution_count": 75,
     "metadata": {},
     "output_type": "execute_result"
    }
   ],
   "source": [
    "x_test[0:2]"
   ]
  },
  {
   "cell_type": "code",
   "execution_count": 76,
   "id": "8e82d42b",
   "metadata": {},
   "outputs": [
    {
     "data": {
      "text/plain": [
       "array([[255],\n",
       "       [225]], dtype=int64)"
      ]
     },
     "execution_count": 76,
     "metadata": {},
     "output_type": "execute_result"
    }
   ],
   "source": [
    "#Actual value\n",
    "y_test[0: 2]"
   ]
  },
  {
   "cell_type": "markdown",
   "id": "a9a43c69",
   "metadata": {},
   "source": [
    "Co2 Emission= m*EngineSize+ C"
   ]
  },
  {
   "cell_type": "code",
   "execution_count": 71,
   "id": "749281ec",
   "metadata": {},
   "outputs": [
    {
     "data": {
      "text/plain": [
       "array([[38.55605508]])"
      ]
     },
     "execution_count": 71,
     "metadata": {},
     "output_type": "execute_result"
    }
   ],
   "source": [
    "m"
   ]
  },
  {
   "cell_type": "code",
   "execution_count": 72,
   "id": "1165294f",
   "metadata": {},
   "outputs": [
    {
     "data": {
      "text/plain": [
       "array([127.08635835])"
      ]
     },
     "execution_count": 72,
     "metadata": {},
     "output_type": "execute_result"
    }
   ],
   "source": [
    "c"
   ]
  },
  {
   "cell_type": "markdown",
   "id": "5c0489e5",
   "metadata": {},
   "source": [
    "Accuracy Measure"
   ]
  },
  {
   "cell_type": "markdown",
   "id": "f1418d9c",
   "metadata": {},
   "source": [
    "Absolute Error"
   ]
  },
  {
   "cell_type": "code",
   "execution_count": 80,
   "id": "09318c9f",
   "metadata": {},
   "outputs": [],
   "source": [
    "y_pred=clf.predict(x_test)"
   ]
  },
  {
   "cell_type": "code",
   "execution_count": 82,
   "id": "9d62298c",
   "metadata": {},
   "outputs": [],
   "source": [
    "mae=np.mean(np.abs(y_pred-y_test))"
   ]
  },
  {
   "cell_type": "code",
   "execution_count": 83,
   "id": "a7a75fda",
   "metadata": {},
   "outputs": [
    {
     "data": {
      "text/plain": [
       "22.67436024000543"
      ]
     },
     "execution_count": 83,
     "metadata": {},
     "output_type": "execute_result"
    }
   ],
   "source": [
    "mae"
   ]
  },
  {
   "cell_type": "markdown",
   "id": "da089ef3",
   "metadata": {},
   "source": [
    "mse"
   ]
  },
  {
   "cell_type": "markdown",
   "id": "db43ff5c",
   "metadata": {},
   "source": [
    "rmse"
   ]
  }
 ],
 "metadata": {
  "kernelspec": {
   "display_name": "Python 3",
   "language": "python",
   "name": "python3"
  },
  "language_info": {
   "codemirror_mode": {
    "name": "ipython",
    "version": 3
   },
   "file_extension": ".py",
   "mimetype": "text/x-python",
   "name": "python",
   "nbconvert_exporter": "python",
   "pygments_lexer": "ipython3",
   "version": "3.8.8"
  }
 },
 "nbformat": 4,
 "nbformat_minor": 5
}
