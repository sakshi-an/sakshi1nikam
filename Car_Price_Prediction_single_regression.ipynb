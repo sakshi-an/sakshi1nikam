{
 "cells": [
  {
   "cell_type": "markdown",
   "id": "94788236",
   "metadata": {},
   "source": [
    "# Predict Car Price prediction with any one feature:"
   ]
  },
  {
   "cell_type": "code",
   "execution_count": 425,
   "id": "f3b068a3",
   "metadata": {},
   "outputs": [],
   "source": [
    "#import libraries \n",
    "import matplotlib.pyplot as plt\n",
    "import pandas as pd\n",
    "import pylab as pl\n",
    "import numpy as np\n",
    "%matplotlib inline"
   ]
  },
  {
   "cell_type": "code",
   "execution_count": 426,
   "id": "e420bdc1",
   "metadata": {},
   "outputs": [],
   "source": [
    "#Read a the data Set\n",
    "df=pd.read_csv(r'auto.csv')"
   ]
  },
  {
   "cell_type": "code",
   "execution_count": 427,
   "id": "4189b022",
   "metadata": {},
   "outputs": [
    {
     "data": {
      "text/plain": [
       "(201, 31)"
      ]
     },
     "execution_count": 427,
     "metadata": {},
     "output_type": "execute_result"
    }
   ],
   "source": [
    "#Perform EDA Analysis on the data Set\n",
    "df.shape"
   ]
  },
  {
   "cell_type": "code",
   "execution_count": 428,
   "id": "125ec989",
   "metadata": {},
   "outputs": [
    {
     "data": {
      "text/html": [
       "<div>\n",
       "<style scoped>\n",
       "    .dataframe tbody tr th:only-of-type {\n",
       "        vertical-align: middle;\n",
       "    }\n",
       "\n",
       "    .dataframe tbody tr th {\n",
       "        vertical-align: top;\n",
       "    }\n",
       "\n",
       "    .dataframe thead th {\n",
       "        text-align: right;\n",
       "    }\n",
       "</style>\n",
       "<table border=\"1\" class=\"dataframe\">\n",
       "  <thead>\n",
       "    <tr style=\"text-align: right;\">\n",
       "      <th></th>\n",
       "      <th>Unnamed: 0</th>\n",
       "      <th>Unnamed: 0.1</th>\n",
       "      <th>symboling</th>\n",
       "      <th>normalized-losses</th>\n",
       "      <th>wheel-base</th>\n",
       "      <th>length</th>\n",
       "      <th>width</th>\n",
       "      <th>height</th>\n",
       "      <th>curb-weight</th>\n",
       "      <th>engine-size</th>\n",
       "      <th>...</th>\n",
       "      <th>stroke</th>\n",
       "      <th>compression-ratio</th>\n",
       "      <th>horsepower</th>\n",
       "      <th>peak-rpm</th>\n",
       "      <th>city-mpg</th>\n",
       "      <th>highway-mpg</th>\n",
       "      <th>price</th>\n",
       "      <th>city-L/100km</th>\n",
       "      <th>diesel</th>\n",
       "      <th>gas</th>\n",
       "    </tr>\n",
       "  </thead>\n",
       "  <tbody>\n",
       "    <tr>\n",
       "      <th>count</th>\n",
       "      <td>201.000000</td>\n",
       "      <td>201.000000</td>\n",
       "      <td>201.000000</td>\n",
       "      <td>201.00000</td>\n",
       "      <td>201.000000</td>\n",
       "      <td>201.000000</td>\n",
       "      <td>201.000000</td>\n",
       "      <td>201.000000</td>\n",
       "      <td>201.000000</td>\n",
       "      <td>201.000000</td>\n",
       "      <td>...</td>\n",
       "      <td>197.000000</td>\n",
       "      <td>201.000000</td>\n",
       "      <td>201.000000</td>\n",
       "      <td>201.000000</td>\n",
       "      <td>201.000000</td>\n",
       "      <td>201.000000</td>\n",
       "      <td>201.000000</td>\n",
       "      <td>201.000000</td>\n",
       "      <td>201.000000</td>\n",
       "      <td>201.000000</td>\n",
       "    </tr>\n",
       "    <tr>\n",
       "      <th>mean</th>\n",
       "      <td>100.000000</td>\n",
       "      <td>100.000000</td>\n",
       "      <td>0.840796</td>\n",
       "      <td>122.00000</td>\n",
       "      <td>98.797015</td>\n",
       "      <td>0.837102</td>\n",
       "      <td>0.915126</td>\n",
       "      <td>53.766667</td>\n",
       "      <td>2555.666667</td>\n",
       "      <td>126.875622</td>\n",
       "      <td>...</td>\n",
       "      <td>3.256904</td>\n",
       "      <td>10.164279</td>\n",
       "      <td>103.405534</td>\n",
       "      <td>5117.665368</td>\n",
       "      <td>25.179104</td>\n",
       "      <td>30.686567</td>\n",
       "      <td>13207.129353</td>\n",
       "      <td>9.944145</td>\n",
       "      <td>0.099502</td>\n",
       "      <td>0.900498</td>\n",
       "    </tr>\n",
       "    <tr>\n",
       "      <th>std</th>\n",
       "      <td>58.167861</td>\n",
       "      <td>58.167861</td>\n",
       "      <td>1.254802</td>\n",
       "      <td>31.99625</td>\n",
       "      <td>6.066366</td>\n",
       "      <td>0.059213</td>\n",
       "      <td>0.029187</td>\n",
       "      <td>2.447822</td>\n",
       "      <td>517.296727</td>\n",
       "      <td>41.546834</td>\n",
       "      <td>...</td>\n",
       "      <td>0.319256</td>\n",
       "      <td>4.004965</td>\n",
       "      <td>37.365700</td>\n",
       "      <td>478.113805</td>\n",
       "      <td>6.423220</td>\n",
       "      <td>6.815150</td>\n",
       "      <td>7947.066342</td>\n",
       "      <td>2.534599</td>\n",
       "      <td>0.300083</td>\n",
       "      <td>0.300083</td>\n",
       "    </tr>\n",
       "    <tr>\n",
       "      <th>min</th>\n",
       "      <td>0.000000</td>\n",
       "      <td>0.000000</td>\n",
       "      <td>-2.000000</td>\n",
       "      <td>65.00000</td>\n",
       "      <td>86.600000</td>\n",
       "      <td>0.678039</td>\n",
       "      <td>0.837500</td>\n",
       "      <td>47.800000</td>\n",
       "      <td>1488.000000</td>\n",
       "      <td>61.000000</td>\n",
       "      <td>...</td>\n",
       "      <td>2.070000</td>\n",
       "      <td>7.000000</td>\n",
       "      <td>48.000000</td>\n",
       "      <td>4150.000000</td>\n",
       "      <td>13.000000</td>\n",
       "      <td>16.000000</td>\n",
       "      <td>5118.000000</td>\n",
       "      <td>4.795918</td>\n",
       "      <td>0.000000</td>\n",
       "      <td>0.000000</td>\n",
       "    </tr>\n",
       "    <tr>\n",
       "      <th>25%</th>\n",
       "      <td>50.000000</td>\n",
       "      <td>50.000000</td>\n",
       "      <td>0.000000</td>\n",
       "      <td>101.00000</td>\n",
       "      <td>94.500000</td>\n",
       "      <td>0.801538</td>\n",
       "      <td>0.890278</td>\n",
       "      <td>52.000000</td>\n",
       "      <td>2169.000000</td>\n",
       "      <td>98.000000</td>\n",
       "      <td>...</td>\n",
       "      <td>3.110000</td>\n",
       "      <td>8.600000</td>\n",
       "      <td>70.000000</td>\n",
       "      <td>4800.000000</td>\n",
       "      <td>19.000000</td>\n",
       "      <td>25.000000</td>\n",
       "      <td>7775.000000</td>\n",
       "      <td>7.833333</td>\n",
       "      <td>0.000000</td>\n",
       "      <td>1.000000</td>\n",
       "    </tr>\n",
       "    <tr>\n",
       "      <th>50%</th>\n",
       "      <td>100.000000</td>\n",
       "      <td>100.000000</td>\n",
       "      <td>1.000000</td>\n",
       "      <td>122.00000</td>\n",
       "      <td>97.000000</td>\n",
       "      <td>0.832292</td>\n",
       "      <td>0.909722</td>\n",
       "      <td>54.100000</td>\n",
       "      <td>2414.000000</td>\n",
       "      <td>120.000000</td>\n",
       "      <td>...</td>\n",
       "      <td>3.290000</td>\n",
       "      <td>9.000000</td>\n",
       "      <td>95.000000</td>\n",
       "      <td>5125.369458</td>\n",
       "      <td>24.000000</td>\n",
       "      <td>30.000000</td>\n",
       "      <td>10295.000000</td>\n",
       "      <td>9.791667</td>\n",
       "      <td>0.000000</td>\n",
       "      <td>1.000000</td>\n",
       "    </tr>\n",
       "    <tr>\n",
       "      <th>75%</th>\n",
       "      <td>150.000000</td>\n",
       "      <td>150.000000</td>\n",
       "      <td>2.000000</td>\n",
       "      <td>137.00000</td>\n",
       "      <td>102.400000</td>\n",
       "      <td>0.881788</td>\n",
       "      <td>0.925000</td>\n",
       "      <td>55.500000</td>\n",
       "      <td>2926.000000</td>\n",
       "      <td>141.000000</td>\n",
       "      <td>...</td>\n",
       "      <td>3.410000</td>\n",
       "      <td>9.400000</td>\n",
       "      <td>116.000000</td>\n",
       "      <td>5500.000000</td>\n",
       "      <td>30.000000</td>\n",
       "      <td>34.000000</td>\n",
       "      <td>16500.000000</td>\n",
       "      <td>12.368421</td>\n",
       "      <td>0.000000</td>\n",
       "      <td>1.000000</td>\n",
       "    </tr>\n",
       "    <tr>\n",
       "      <th>max</th>\n",
       "      <td>200.000000</td>\n",
       "      <td>200.000000</td>\n",
       "      <td>3.000000</td>\n",
       "      <td>256.00000</td>\n",
       "      <td>120.900000</td>\n",
       "      <td>1.000000</td>\n",
       "      <td>1.000000</td>\n",
       "      <td>59.800000</td>\n",
       "      <td>4066.000000</td>\n",
       "      <td>326.000000</td>\n",
       "      <td>...</td>\n",
       "      <td>4.170000</td>\n",
       "      <td>23.000000</td>\n",
       "      <td>262.000000</td>\n",
       "      <td>6600.000000</td>\n",
       "      <td>49.000000</td>\n",
       "      <td>54.000000</td>\n",
       "      <td>45400.000000</td>\n",
       "      <td>18.076923</td>\n",
       "      <td>1.000000</td>\n",
       "      <td>1.000000</td>\n",
       "    </tr>\n",
       "  </tbody>\n",
       "</table>\n",
       "<p>8 rows × 21 columns</p>\n",
       "</div>"
      ],
      "text/plain": [
       "       Unnamed: 0  Unnamed: 0.1   symboling  normalized-losses  wheel-base  \\\n",
       "count  201.000000    201.000000  201.000000          201.00000  201.000000   \n",
       "mean   100.000000    100.000000    0.840796          122.00000   98.797015   \n",
       "std     58.167861     58.167861    1.254802           31.99625    6.066366   \n",
       "min      0.000000      0.000000   -2.000000           65.00000   86.600000   \n",
       "25%     50.000000     50.000000    0.000000          101.00000   94.500000   \n",
       "50%    100.000000    100.000000    1.000000          122.00000   97.000000   \n",
       "75%    150.000000    150.000000    2.000000          137.00000  102.400000   \n",
       "max    200.000000    200.000000    3.000000          256.00000  120.900000   \n",
       "\n",
       "           length       width      height  curb-weight  engine-size  ...  \\\n",
       "count  201.000000  201.000000  201.000000   201.000000   201.000000  ...   \n",
       "mean     0.837102    0.915126   53.766667  2555.666667   126.875622  ...   \n",
       "std      0.059213    0.029187    2.447822   517.296727    41.546834  ...   \n",
       "min      0.678039    0.837500   47.800000  1488.000000    61.000000  ...   \n",
       "25%      0.801538    0.890278   52.000000  2169.000000    98.000000  ...   \n",
       "50%      0.832292    0.909722   54.100000  2414.000000   120.000000  ...   \n",
       "75%      0.881788    0.925000   55.500000  2926.000000   141.000000  ...   \n",
       "max      1.000000    1.000000   59.800000  4066.000000   326.000000  ...   \n",
       "\n",
       "           stroke  compression-ratio  horsepower     peak-rpm    city-mpg  \\\n",
       "count  197.000000         201.000000  201.000000   201.000000  201.000000   \n",
       "mean     3.256904          10.164279  103.405534  5117.665368   25.179104   \n",
       "std      0.319256           4.004965   37.365700   478.113805    6.423220   \n",
       "min      2.070000           7.000000   48.000000  4150.000000   13.000000   \n",
       "25%      3.110000           8.600000   70.000000  4800.000000   19.000000   \n",
       "50%      3.290000           9.000000   95.000000  5125.369458   24.000000   \n",
       "75%      3.410000           9.400000  116.000000  5500.000000   30.000000   \n",
       "max      4.170000          23.000000  262.000000  6600.000000   49.000000   \n",
       "\n",
       "       highway-mpg         price  city-L/100km      diesel         gas  \n",
       "count   201.000000    201.000000    201.000000  201.000000  201.000000  \n",
       "mean     30.686567  13207.129353      9.944145    0.099502    0.900498  \n",
       "std       6.815150   7947.066342      2.534599    0.300083    0.300083  \n",
       "min      16.000000   5118.000000      4.795918    0.000000    0.000000  \n",
       "25%      25.000000   7775.000000      7.833333    0.000000    1.000000  \n",
       "50%      30.000000  10295.000000      9.791667    0.000000    1.000000  \n",
       "75%      34.000000  16500.000000     12.368421    0.000000    1.000000  \n",
       "max      54.000000  45400.000000     18.076923    1.000000    1.000000  \n",
       "\n",
       "[8 rows x 21 columns]"
      ]
     },
     "execution_count": 428,
     "metadata": {},
     "output_type": "execute_result"
    }
   ],
   "source": [
    "df.describe()"
   ]
  },
  {
   "cell_type": "code",
   "execution_count": 429,
   "id": "0a418470",
   "metadata": {},
   "outputs": [
    {
     "name": "stdout",
     "output_type": "stream",
     "text": [
      "<class 'pandas.core.frame.DataFrame'>\n",
      "RangeIndex: 201 entries, 0 to 200\n",
      "Data columns (total 31 columns):\n",
      " #   Column             Non-Null Count  Dtype  \n",
      "---  ------             --------------  -----  \n",
      " 0   Unnamed: 0         201 non-null    int64  \n",
      " 1   Unnamed: 0.1       201 non-null    int64  \n",
      " 2   symboling          201 non-null    int64  \n",
      " 3   normalized-losses  201 non-null    int64  \n",
      " 4   make               201 non-null    object \n",
      " 5   aspiration         201 non-null    object \n",
      " 6   num-of-doors       201 non-null    object \n",
      " 7   body-style         201 non-null    object \n",
      " 8   drive-wheels       201 non-null    object \n",
      " 9   engine-location    201 non-null    object \n",
      " 10  wheel-base         201 non-null    float64\n",
      " 11  length             201 non-null    float64\n",
      " 12  width              201 non-null    float64\n",
      " 13  height             201 non-null    float64\n",
      " 14  curb-weight        201 non-null    int64  \n",
      " 15  engine-type        201 non-null    object \n",
      " 16  num-of-cylinders   201 non-null    object \n",
      " 17  engine-size        201 non-null    int64  \n",
      " 18  fuel-system        201 non-null    object \n",
      " 19  bore               201 non-null    float64\n",
      " 20  stroke             197 non-null    float64\n",
      " 21  compression-ratio  201 non-null    float64\n",
      " 22  horsepower         201 non-null    float64\n",
      " 23  peak-rpm           201 non-null    float64\n",
      " 24  city-mpg           201 non-null    int64  \n",
      " 25  highway-mpg        201 non-null    int64  \n",
      " 26  price              201 non-null    float64\n",
      " 27  city-L/100km       201 non-null    float64\n",
      " 28  horsepower-binned  200 non-null    object \n",
      " 29  diesel             201 non-null    int64  \n",
      " 30  gas                201 non-null    int64  \n",
      "dtypes: float64(11), int64(10), object(10)\n",
      "memory usage: 48.8+ KB\n"
     ]
    }
   ],
   "source": [
    "df.info()"
   ]
  },
  {
   "cell_type": "code",
   "execution_count": 430,
   "id": "38adc3c1",
   "metadata": {},
   "outputs": [],
   "source": [
    "df2=df[['wheel-base', 'length', 'width', 'curb-weight', 'engine-size', 'bore', 'horsepower', 'price']]"
   ]
  },
  {
   "cell_type": "code",
   "execution_count": 431,
   "id": "89601b0e",
   "metadata": {},
   "outputs": [
    {
     "data": {
      "text/html": [
       "<div>\n",
       "<style scoped>\n",
       "    .dataframe tbody tr th:only-of-type {\n",
       "        vertical-align: middle;\n",
       "    }\n",
       "\n",
       "    .dataframe tbody tr th {\n",
       "        vertical-align: top;\n",
       "    }\n",
       "\n",
       "    .dataframe thead th {\n",
       "        text-align: right;\n",
       "    }\n",
       "</style>\n",
       "<table border=\"1\" class=\"dataframe\">\n",
       "  <thead>\n",
       "    <tr style=\"text-align: right;\">\n",
       "      <th></th>\n",
       "      <th>wheel-base</th>\n",
       "      <th>length</th>\n",
       "      <th>width</th>\n",
       "      <th>curb-weight</th>\n",
       "      <th>engine-size</th>\n",
       "      <th>bore</th>\n",
       "      <th>horsepower</th>\n",
       "      <th>price</th>\n",
       "    </tr>\n",
       "  </thead>\n",
       "  <tbody>\n",
       "    <tr>\n",
       "      <th>0</th>\n",
       "      <td>88.6</td>\n",
       "      <td>0.811148</td>\n",
       "      <td>0.890278</td>\n",
       "      <td>2548</td>\n",
       "      <td>130</td>\n",
       "      <td>3.47</td>\n",
       "      <td>111.0</td>\n",
       "      <td>13495.0</td>\n",
       "    </tr>\n",
       "    <tr>\n",
       "      <th>1</th>\n",
       "      <td>88.6</td>\n",
       "      <td>0.811148</td>\n",
       "      <td>0.890278</td>\n",
       "      <td>2548</td>\n",
       "      <td>130</td>\n",
       "      <td>3.47</td>\n",
       "      <td>111.0</td>\n",
       "      <td>16500.0</td>\n",
       "    </tr>\n",
       "    <tr>\n",
       "      <th>2</th>\n",
       "      <td>94.5</td>\n",
       "      <td>0.822681</td>\n",
       "      <td>0.909722</td>\n",
       "      <td>2823</td>\n",
       "      <td>152</td>\n",
       "      <td>2.68</td>\n",
       "      <td>154.0</td>\n",
       "      <td>16500.0</td>\n",
       "    </tr>\n",
       "    <tr>\n",
       "      <th>3</th>\n",
       "      <td>99.8</td>\n",
       "      <td>0.848630</td>\n",
       "      <td>0.919444</td>\n",
       "      <td>2337</td>\n",
       "      <td>109</td>\n",
       "      <td>3.19</td>\n",
       "      <td>102.0</td>\n",
       "      <td>13950.0</td>\n",
       "    </tr>\n",
       "    <tr>\n",
       "      <th>4</th>\n",
       "      <td>99.4</td>\n",
       "      <td>0.848630</td>\n",
       "      <td>0.922222</td>\n",
       "      <td>2824</td>\n",
       "      <td>136</td>\n",
       "      <td>3.19</td>\n",
       "      <td>115.0</td>\n",
       "      <td>17450.0</td>\n",
       "    </tr>\n",
       "  </tbody>\n",
       "</table>\n",
       "</div>"
      ],
      "text/plain": [
       "   wheel-base    length     width  curb-weight  engine-size  bore  horsepower  \\\n",
       "0        88.6  0.811148  0.890278         2548          130  3.47       111.0   \n",
       "1        88.6  0.811148  0.890278         2548          130  3.47       111.0   \n",
       "2        94.5  0.822681  0.909722         2823          152  2.68       154.0   \n",
       "3        99.8  0.848630  0.919444         2337          109  3.19       102.0   \n",
       "4        99.4  0.848630  0.922222         2824          136  3.19       115.0   \n",
       "\n",
       "     price  \n",
       "0  13495.0  \n",
       "1  16500.0  \n",
       "2  16500.0  \n",
       "3  13950.0  \n",
       "4  17450.0  "
      ]
     },
     "execution_count": 431,
     "metadata": {},
     "output_type": "execute_result"
    }
   ],
   "source": [
    "df2.head()"
   ]
  },
  {
   "cell_type": "code",
   "execution_count": 432,
   "id": "ae4832f8",
   "metadata": {},
   "outputs": [
    {
     "data": {
      "text/plain": [
       "array([[<AxesSubplot:title={'center':'wheel-base'}>,\n",
       "        <AxesSubplot:title={'center':'length'}>,\n",
       "        <AxesSubplot:title={'center':'width'}>],\n",
       "       [<AxesSubplot:title={'center':'curb-weight'}>,\n",
       "        <AxesSubplot:title={'center':'engine-size'}>,\n",
       "        <AxesSubplot:title={'center':'bore'}>],\n",
       "       [<AxesSubplot:title={'center':'horsepower'}>,\n",
       "        <AxesSubplot:title={'center':'price'}>, <AxesSubplot:>]],\n",
       "      dtype=object)"
      ]
     },
     "execution_count": 432,
     "metadata": {},
     "output_type": "execute_result"
    },
    {
     "data": {
      "image/png": "[encoded data removed]",
      "text/plain": [
       "<Figure size 432x288 with 9 Axes>"
      ]
     },
     "metadata": {
      "needs_background": "light"
     },
     "output_type": "display_data"
    }
   ],
   "source": [
    "#Visualize the data using Matplotlib \n",
    "df2.hist()"
   ]
  },
  {
   "cell_type": "code",
   "execution_count": 433,
   "id": "c35ba553",
   "metadata": {},
   "outputs": [
    {
     "data": {
      "text/plain": [
       "0.5846418222655086"
      ]
     },
     "execution_count": 433,
     "metadata": {},
     "output_type": "execute_result"
    }
   ],
   "source": [
    "#Find the Correlation Between Different Parameters\n",
    "df[\"wheel-base\"].corr(df[\"price\"])"
   ]
  },
  {
   "cell_type": "code",
   "execution_count": 434,
   "id": "ce5b3d26",
   "metadata": {},
   "outputs": [
    {
     "data": {
      "text/plain": [
       "0.6906283804483644"
      ]
     },
     "execution_count": 434,
     "metadata": {},
     "output_type": "execute_result"
    }
   ],
   "source": [
    "df[\"length\"].corr(df[\"price\"])"
   ]
  },
  {
   "cell_type": "code",
   "execution_count": 435,
   "id": "53c06067",
   "metadata": {},
   "outputs": [
    {
     "data": {
      "text/plain": [
       "0.7512653440522681"
      ]
     },
     "execution_count": 435,
     "metadata": {},
     "output_type": "execute_result"
    }
   ],
   "source": [
    "df[\"width\"].corr(df[\"price\"])"
   ]
  },
  {
   "cell_type": "code",
   "execution_count": 436,
   "id": "af997092",
   "metadata": {},
   "outputs": [
    {
     "data": {
      "text/plain": [
       "0.8344145257702834"
      ]
     },
     "execution_count": 436,
     "metadata": {},
     "output_type": "execute_result"
    }
   ],
   "source": [
    "df[\"curb-weight\"].corr(df[\"price\"])"
   ]
  },
  {
   "cell_type": "code",
   "execution_count": 437,
   "id": "988c3ab5",
   "metadata": {},
   "outputs": [
    {
     "data": {
      "text/plain": [
       "0.8723351674455198"
      ]
     },
     "execution_count": 437,
     "metadata": {},
     "output_type": "execute_result"
    }
   ],
   "source": [
    "df[\"engine-size\"].corr(df[\"price\"])"
   ]
  },
  {
   "cell_type": "code",
   "execution_count": 438,
   "id": "a569d007",
   "metadata": {},
   "outputs": [
    {
     "data": {
      "text/plain": [
       "0.5431553832626611"
      ]
     },
     "execution_count": 438,
     "metadata": {},
     "output_type": "execute_result"
    }
   ],
   "source": [
    "df[\"bore\"].corr(df[\"price\"])"
   ]
  },
  {
   "cell_type": "code",
   "execution_count": 439,
   "id": "4d2c794d",
   "metadata": {},
   "outputs": [],
   "source": [
    "#Create Training and Testing Data\n",
    "msk=np.random.rand(len(df))< 0.8\n",
    "train= df2[msk]\n",
    "test=df2[~msk]"
   ]
  },
  {
   "cell_type": "code",
   "execution_count": 440,
   "id": "d4d0a8b6",
   "metadata": {},
   "outputs": [
    {
     "data": {
      "text/html": [
       "<div>\n",
       "<style scoped>\n",
       "    .dataframe tbody tr th:only-of-type {\n",
       "        vertical-align: middle;\n",
       "    }\n",
       "\n",
       "    .dataframe tbody tr th {\n",
       "        vertical-align: top;\n",
       "    }\n",
       "\n",
       "    .dataframe thead th {\n",
       "        text-align: right;\n",
       "    }\n",
       "</style>\n",
       "<table border=\"1\" class=\"dataframe\">\n",
       "  <thead>\n",
       "    <tr style=\"text-align: right;\">\n",
       "      <th></th>\n",
       "      <th>wheel-base</th>\n",
       "      <th>length</th>\n",
       "      <th>width</th>\n",
       "      <th>curb-weight</th>\n",
       "      <th>engine-size</th>\n",
       "      <th>bore</th>\n",
       "      <th>horsepower</th>\n",
       "      <th>price</th>\n",
       "    </tr>\n",
       "  </thead>\n",
       "  <tbody>\n",
       "    <tr>\n",
       "      <th>0</th>\n",
       "      <td>88.6</td>\n",
       "      <td>0.811148</td>\n",
       "      <td>0.890278</td>\n",
       "      <td>2548</td>\n",
       "      <td>130</td>\n",
       "      <td>3.47</td>\n",
       "      <td>111.0</td>\n",
       "      <td>13495.0</td>\n",
       "    </tr>\n",
       "    <tr>\n",
       "      <th>1</th>\n",
       "      <td>88.6</td>\n",
       "      <td>0.811148</td>\n",
       "      <td>0.890278</td>\n",
       "      <td>2548</td>\n",
       "      <td>130</td>\n",
       "      <td>3.47</td>\n",
       "      <td>111.0</td>\n",
       "      <td>16500.0</td>\n",
       "    </tr>\n",
       "    <tr>\n",
       "      <th>2</th>\n",
       "      <td>94.5</td>\n",
       "      <td>0.822681</td>\n",
       "      <td>0.909722</td>\n",
       "      <td>2823</td>\n",
       "      <td>152</td>\n",
       "      <td>2.68</td>\n",
       "      <td>154.0</td>\n",
       "      <td>16500.0</td>\n",
       "    </tr>\n",
       "    <tr>\n",
       "      <th>4</th>\n",
       "      <td>99.4</td>\n",
       "      <td>0.848630</td>\n",
       "      <td>0.922222</td>\n",
       "      <td>2824</td>\n",
       "      <td>136</td>\n",
       "      <td>3.19</td>\n",
       "      <td>115.0</td>\n",
       "      <td>17450.0</td>\n",
       "    </tr>\n",
       "    <tr>\n",
       "      <th>6</th>\n",
       "      <td>105.8</td>\n",
       "      <td>0.925997</td>\n",
       "      <td>0.991667</td>\n",
       "      <td>2844</td>\n",
       "      <td>136</td>\n",
       "      <td>3.19</td>\n",
       "      <td>110.0</td>\n",
       "      <td>17710.0</td>\n",
       "    </tr>\n",
       "  </tbody>\n",
       "</table>\n",
       "</div>"
      ],
      "text/plain": [
       "   wheel-base    length     width  curb-weight  engine-size  bore  horsepower  \\\n",
       "0        88.6  0.811148  0.890278         2548          130  3.47       111.0   \n",
       "1        88.6  0.811148  0.890278         2548          130  3.47       111.0   \n",
       "2        94.5  0.822681  0.909722         2823          152  2.68       154.0   \n",
       "4        99.4  0.848630  0.922222         2824          136  3.19       115.0   \n",
       "6       105.8  0.925997  0.991667         2844          136  3.19       110.0   \n",
       "\n",
       "     price  \n",
       "0  13495.0  \n",
       "1  16500.0  \n",
       "2  16500.0  \n",
       "4  17450.0  \n",
       "6  17710.0  "
      ]
     },
     "execution_count": 440,
     "metadata": {},
     "output_type": "execute_result"
    }
   ],
   "source": [
    "train.head()"
   ]
  },
  {
   "cell_type": "code",
   "execution_count": 441,
   "id": "7c1f2d35",
   "metadata": {},
   "outputs": [
    {
     "data": {
      "text/plain": [
       "<bound method NDFrame.head of      wheel-base    length     width  curb-weight  engine-size      bore  \\\n",
       "3          99.8  0.848630  0.919444         2337          109  3.190000   \n",
       "5          99.8  0.851994  0.920833         2507          136  3.190000   \n",
       "12        101.2  0.849592  0.900000         2765          164  3.310000   \n",
       "15        103.5  0.931283  0.943056         3380          209  3.620000   \n",
       "18         94.5  0.749159  0.883333         1874           90  3.030000   \n",
       "25         93.7  0.755887  0.886111         1989           90  2.970000   \n",
       "40         96.5  0.842864  0.905556         2465          110  3.150000   \n",
       "44        113.0  0.959154  0.966667         4066          258  3.630000   \n",
       "54         95.3  0.812110  0.912500         2385           70  3.329751   \n",
       "56         98.8  0.854397  0.923611         2385          122  3.390000   \n",
       "58         98.8  0.854397  0.923611         2385          122  3.390000   \n",
       "74         93.7  0.755887  0.894444         1944           92  2.970000   \n",
       "75         93.7  0.755887  0.894444         2004           92  2.970000   \n",
       "77         96.3  0.831331  0.908333         2370          110  3.170000   \n",
       "78         96.3  0.831331  0.908333         2328          122  3.350000   \n",
       "83         96.3  0.828448  0.908333         2405          122  3.350000   \n",
       "84         96.3  0.828448  0.908333         2403          110  3.170000   \n",
       "86         94.5  0.794330  0.886111         1889           97  3.150000   \n",
       "89         94.5  0.794330  0.886111         1938           97  3.150000   \n",
       "90         94.5  0.817876  0.886111         2024           97  3.150000   \n",
       "94         94.5  0.817876  0.886111         2037           97  3.150000   \n",
       "96         97.2  0.833253  0.905556         2324          120  3.330000   \n",
       "108       107.9  0.897165  0.950000         3075          120  3.460000   \n",
       "109       107.9  0.897165  0.950000         3252          152  3.700000   \n",
       "114       108.0  0.897165  0.948611         3130          134  3.610000   \n",
       "121        95.9  0.832292  0.920833         2818          156  3.590000   \n",
       "125        89.5  0.811629  0.902778         2800          194  3.740000   \n",
       "126        96.1  0.872177  0.923611         2579          132  3.460000   \n",
       "137        97.2  0.826526  0.908333         2145          108  3.620000   \n",
       "142        97.0  0.833734  0.908333         2290          108  3.620000   \n",
       "149        95.7  0.815473  0.883333         2280           92  3.050000   \n",
       "151        95.7  0.815473  0.883333         3110           92  3.050000   \n",
       "152        95.7  0.799135  0.894444         2081           98  3.190000   \n",
       "153        95.7  0.799135  0.894444         2109           98  3.190000   \n",
       "156        95.7  0.799135  0.894444         2094           98  3.190000   \n",
       "167        98.4  0.846708  0.911111         2714          146  3.620000   \n",
       "171       102.4  0.843825  0.923611         2414          122  3.310000   \n",
       "176       104.5  0.902451  0.923611         3131          171  3.270000   \n",
       "192       104.3  0.907256  0.933333         2935          141  3.780000   \n",
       "194       104.3  0.907256  0.933333         3045          130  3.620000   \n",
       "\n",
       "     horsepower    price  \n",
       "3    102.000000  13950.0  \n",
       "5    110.000000  15250.0  \n",
       "12   121.000000  21105.0  \n",
       "15   182.000000  41315.0  \n",
       "18    70.000000   6295.0  \n",
       "25    68.000000   7609.0  \n",
       "40   101.000000  12945.0  \n",
       "44   176.000000  32250.0  \n",
       "54   101.000000  13645.0  \n",
       "56    84.000000   8845.0  \n",
       "58    84.000000  10595.0  \n",
       "74    68.000000   6189.0  \n",
       "75    68.000000   6669.0  \n",
       "77   116.000000   9959.0  \n",
       "78    88.000000   8499.0  \n",
       "83    88.000000   8189.0  \n",
       "84   116.000000   9279.0  \n",
       "86    69.000000   5499.0  \n",
       "89    69.000000   6849.0  \n",
       "90    69.000000   7349.0  \n",
       "94    69.000000   7999.0  \n",
       "96    97.000000   8949.0  \n",
       "108   95.000000  15580.0  \n",
       "109   95.000000  16900.0  \n",
       "114  142.000000  18150.0  \n",
       "121  145.000000  12764.0  \n",
       "125  207.000000  37028.0  \n",
       "126  104.256158   9295.0  \n",
       "137   82.000000   7126.0  \n",
       "142   82.000000   7463.0  \n",
       "149   62.000000   6918.0  \n",
       "151   62.000000   8778.0  \n",
       "152   70.000000   6938.0  \n",
       "153   70.000000   7198.0  \n",
       "156   70.000000   7738.0  \n",
       "167  116.000000  11549.0  \n",
       "171   92.000000   9988.0  \n",
       "176  156.000000  15690.0  \n",
       "192  114.000000  15985.0  \n",
       "194  162.000000  18420.0  >"
      ]
     },
     "execution_count": 441,
     "metadata": {},
     "output_type": "execute_result"
    }
   ],
   "source": [
    "test.head"
   ]
  },
  {
   "cell_type": "code",
   "execution_count": 442,
   "id": "66790c7b",
   "metadata": {},
   "outputs": [
    {
     "data": {
      "text/plain": [
       "(40, 8)"
      ]
     },
     "execution_count": 442,
     "metadata": {},
     "output_type": "execute_result"
    }
   ],
   "source": [
    "test.shape"
   ]
  },
  {
   "cell_type": "code",
   "execution_count": 443,
   "id": "e69fd59d",
   "metadata": {},
   "outputs": [],
   "source": [
    "#Train the model Using Linear Regression model\n",
    "from sklearn import linear_model"
   ]
  },
  {
   "cell_type": "code",
   "execution_count": 444,
   "id": "f9167ff2",
   "metadata": {},
   "outputs": [],
   "source": [
    "clf=linear_model.LinearRegression()"
   ]
  },
  {
   "cell_type": "code",
   "execution_count": 445,
   "id": "2910c702",
   "metadata": {},
   "outputs": [],
   "source": [
    "x_train= np.asanyarray(train[[\"engine-size\"]])"
   ]
  },
  {
   "cell_type": "code",
   "execution_count": 446,
   "id": "c0661292",
   "metadata": {},
   "outputs": [],
   "source": [
    "y_train= np.asanyarray(train[[\"price\"]])"
   ]
  },
  {
   "cell_type": "code",
   "execution_count": 447,
   "id": "42a45e14",
   "metadata": {},
   "outputs": [],
   "source": [
    "x_test= np.asanyarray(test[[\"engine-size\"]])"
   ]
  },
  {
   "cell_type": "code",
   "execution_count": 448,
   "id": "960334ba",
   "metadata": {},
   "outputs": [],
   "source": [
    "y_test= np.asanyarray(test[[\"price\"]])"
   ]
  },
  {
   "cell_type": "code",
   "execution_count": 449,
   "id": "da9649dc",
   "metadata": {},
   "outputs": [
    {
     "data": {
      "text/plain": [
       "LinearRegression()"
      ]
     },
     "execution_count": 449,
     "metadata": {},
     "output_type": "execute_result"
    }
   ],
   "source": [
    "clf.fit(x_train,y_train)"
   ]
  },
  {
   "cell_type": "code",
   "execution_count": 450,
   "id": "2eab49a5",
   "metadata": {},
   "outputs": [],
   "source": [
    "#Print intercept and Coefficient\n",
    "c=clf.intercept_"
   ]
  },
  {
   "cell_type": "code",
   "execution_count": 451,
   "id": "fbf79419",
   "metadata": {},
   "outputs": [],
   "source": [
    "m=clf.coef_"
   ]
  },
  {
   "cell_type": "code",
   "execution_count": 452,
   "id": "b5b1dce7",
   "metadata": {},
   "outputs": [
    {
     "data": {
      "text/plain": [
       "array([-7476.7511259])"
      ]
     },
     "execution_count": 452,
     "metadata": {},
     "output_type": "execute_result"
    }
   ],
   "source": [
    "c"
   ]
  },
  {
   "cell_type": "code",
   "execution_count": 453,
   "id": "4771e2de",
   "metadata": {},
   "outputs": [
    {
     "data": {
      "text/plain": [
       "array([[163.10143537]])"
      ]
     },
     "execution_count": 453,
     "metadata": {},
     "output_type": "execute_result"
    }
   ],
   "source": [
    "m"
   ]
  },
  {
   "cell_type": "code",
   "execution_count": 454,
   "id": "699eb12f",
   "metadata": {},
   "outputs": [
    {
     "data": {
      "text/plain": [
       "array([[10301.30532926],\n",
       "       [14705.04408421],\n",
       "       [19271.88427452],\n",
       "       [26611.4488661 ],\n",
       "       [ 7202.37805726],\n",
       "       [ 7202.37805726],\n",
       "       [10464.40676463],\n",
       "       [34603.41919916],\n",
       "       [ 3940.34934989],\n",
       "       [12421.62398905],\n",
       "       [12421.62398905],\n",
       "       [ 7528.58092799],\n",
       "       [ 7528.58092799],\n",
       "       [10464.40676463],\n",
       "       [12421.62398905],\n",
       "       [12421.62398905],\n",
       "       [10464.40676463],\n",
       "       [ 8344.08810484],\n",
       "       [ 8344.08810484],\n",
       "       [ 8344.08810484],\n",
       "       [ 8344.08810484],\n",
       "       [12095.42111831],\n",
       "       [12095.42111831],\n",
       "       [17314.6670501 ],\n",
       "       [14378.84121347],\n",
       "       [17967.07279157],\n",
       "       [24164.92733558],\n",
       "       [14052.63834273],\n",
       "       [10138.20389389],\n",
       "       [10138.20389389],\n",
       "       [ 7528.58092799],\n",
       "       [ 7528.58092799],\n",
       "       [ 8507.1895402 ],\n",
       "       [ 8507.1895402 ],\n",
       "       [ 8507.1895402 ],\n",
       "       [16336.05843789],\n",
       "       [12421.62398905],\n",
       "       [20413.5943221 ],\n",
       "       [15520.55126105],\n",
       "       [13726.43547199]])"
      ]
     },
     "execution_count": 454,
     "metadata": {},
     "output_type": "execute_result"
    }
   ],
   "source": [
    "#Predict the values from testing data \n",
    "clf.predict(x_test)"
   ]
  },
  {
   "cell_type": "code",
   "execution_count": 455,
   "id": "cbe5b8f0",
   "metadata": {},
   "outputs": [
    {
     "data": {
      "text/plain": [
       "(40, 1)"
      ]
     },
     "execution_count": 455,
     "metadata": {},
     "output_type": "execute_result"
    }
   ],
   "source": [
    "x_test.shape"
   ]
  },
  {
   "cell_type": "code",
   "execution_count": 456,
   "id": "efd081f4",
   "metadata": {},
   "outputs": [
    {
     "data": {
      "text/plain": [
       "(40, 1)"
      ]
     },
     "execution_count": 456,
     "metadata": {},
     "output_type": "execute_result"
    }
   ],
   "source": [
    "clf.predict(x_test).shape"
   ]
  },
  {
   "cell_type": "code",
   "execution_count": 457,
   "id": "72075c39",
   "metadata": {},
   "outputs": [
    {
     "data": {
      "text/plain": [
       "array([[10301.30532926],\n",
       "       [14705.04408421]])"
      ]
     },
     "execution_count": 457,
     "metadata": {},
     "output_type": "execute_result"
    }
   ],
   "source": [
    "#Compare any 2 predicted and actual values\n",
    "clf.predict(x_test[0: 2])"
   ]
  },
  {
   "cell_type": "code",
   "execution_count": 458,
   "id": "b1b919e5",
   "metadata": {},
   "outputs": [
    {
     "data": {
      "text/plain": [
       "array([[13950.],\n",
       "       [15250.]])"
      ]
     },
     "execution_count": 458,
     "metadata": {},
     "output_type": "execute_result"
    }
   ],
   "source": [
    "y_test[0: 2]"
   ]
  },
  {
   "cell_type": "code",
   "execution_count": 459,
   "id": "e76934f4",
   "metadata": {},
   "outputs": [],
   "source": [
    "y_pred=clf.predict(x_test)"
   ]
  },
  {
   "cell_type": "code",
   "execution_count": 460,
   "id": "2617c504",
   "metadata": {},
   "outputs": [],
   "source": [
    "#Perform MAE, MSE and RMSE analysis\n",
    "\n",
    "mae=np.mean(np.abs(y_pred-y_test))"
   ]
  },
  {
   "cell_type": "code",
   "execution_count": 461,
   "id": "acbd73aa",
   "metadata": {},
   "outputs": [],
   "source": [
    "mse=np.mean((y_pred-y_test)**2)"
   ]
  },
  {
   "cell_type": "code",
   "execution_count": 462,
   "id": "812dc3ad",
   "metadata": {},
   "outputs": [],
   "source": [
    "rmse=np.sqrt(mse)"
   ]
  },
  {
   "cell_type": "code",
   "execution_count": 463,
   "id": "f9554428",
   "metadata": {},
   "outputs": [
    {
     "name": "stdout",
     "output_type": "stream",
     "text": [
      "3041.2420087769524\n",
      "18825476.13996925\n",
      "4338.833499913226\n"
     ]
    }
   ],
   "source": [
    "print(mae)\n",
    "print(mse)\n",
    "print(rmse)"
   ]
  }
 ],
 "metadata": {
  "kernelspec": {
   "display_name": "Python 3",
   "language": "python",
   "name": "python3"
  },
  "language_info": {
   "codemirror_mode": {
    "name": "ipython",
    "version": 3
   },
   "file_extension": ".py",
   "mimetype": "text/x-python",
   "name": "python",
   "nbconvert_exporter": "python",
   "pygments_lexer": "ipython3",
   "version": "3.8.8"
  }
 },
 "nbformat": 4,
 "nbformat_minor": 5
}
