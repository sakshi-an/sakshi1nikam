{
  "nbformat": 4,
  "nbformat_minor": 5,
  "metadata": {
    "kernelspec": {
      "display_name": "Python 3",
      "language": "python",
      "name": "python3"
    },
    "language_info": {
      "codemirror_mode": {
        "name": "ipython",
        "version": 3
      },
      "file_extension": ".py",
      "mimetype": "text/x-python",
      "name": "python",
      "nbconvert_exporter": "python",
      "pygments_lexer": "ipython3",
      "version": "3.8.8"
    },
    "colab": {
      "name": "Customer Segmentation.ipynb",
      "provenance": []
    }
  },
  "cells": [
    {
      "cell_type": "code",
      "metadata": {
        "id": "315defcc"
      },
      "source": [
        "import pandas as pd\n",
        "import numpy as np\n",
        "import sklearn\n",
        "import matplotlib.pyplot as plt\n",
        "%matplotlib inline\n",
        "from sklearn.metrics import accuracy_score\n",
        "from sklearn.model_selection import train_test_split"
      ],
      "id": "315defcc",
      "execution_count": null,
      "outputs": []
    },
    {
      "cell_type": "code",
      "metadata": {
        "id": "30f7487a"
      },
      "source": [
        "df=pd.read_csv(r\"C:\\Users\\Admin\\Documents\\Python_ACMEGRADE\\Customer Segmentation\\Cust_Segmentation.csv\")"
      ],
      "id": "30f7487a",
      "execution_count": null,
      "outputs": []
    },
    {
      "cell_type": "code",
      "metadata": {
        "id": "8d9bfbb8",
        "outputId": "b40c32af-9996-4a2e-e077-056b736988be"
      },
      "source": [
        "df.head()"
      ],
      "id": "8d9bfbb8",
      "execution_count": null,
      "outputs": [
        {
          "data": {
            "text/html": [
              "<div>\n",
              "<style scoped>\n",
              "    .dataframe tbody tr th:only-of-type {\n",
              "        vertical-align: middle;\n",
              "    }\n",
              "\n",
              "    .dataframe tbody tr th {\n",
              "        vertical-align: top;\n",
              "    }\n",
              "\n",
              "    .dataframe thead th {\n",
              "        text-align: right;\n",
              "    }\n",
              "</style>\n",
              "<table border=\"1\" class=\"dataframe\">\n",
              "  <thead>\n",
              "    <tr style=\"text-align: right;\">\n",
              "      <th></th>\n",
              "      <th>Customer Id</th>\n",
              "      <th>Age</th>\n",
              "      <th>Edu</th>\n",
              "      <th>Years Employed</th>\n",
              "      <th>Income</th>\n",
              "      <th>Card Debt</th>\n",
              "      <th>Other Debt</th>\n",
              "      <th>Defaulted</th>\n",
              "      <th>Address</th>\n",
              "      <th>DebtIncomeRatio</th>\n",
              "    </tr>\n",
              "  </thead>\n",
              "  <tbody>\n",
              "    <tr>\n",
              "      <th>0</th>\n",
              "      <td>1</td>\n",
              "      <td>41</td>\n",
              "      <td>2</td>\n",
              "      <td>6</td>\n",
              "      <td>19</td>\n",
              "      <td>0.124</td>\n",
              "      <td>1.073</td>\n",
              "      <td>0.0</td>\n",
              "      <td>NBA001</td>\n",
              "      <td>6.3</td>\n",
              "    </tr>\n",
              "    <tr>\n",
              "      <th>1</th>\n",
              "      <td>2</td>\n",
              "      <td>47</td>\n",
              "      <td>1</td>\n",
              "      <td>26</td>\n",
              "      <td>100</td>\n",
              "      <td>4.582</td>\n",
              "      <td>8.218</td>\n",
              "      <td>0.0</td>\n",
              "      <td>NBA021</td>\n",
              "      <td>12.8</td>\n",
              "    </tr>\n",
              "    <tr>\n",
              "      <th>2</th>\n",
              "      <td>3</td>\n",
              "      <td>33</td>\n",
              "      <td>2</td>\n",
              "      <td>10</td>\n",
              "      <td>57</td>\n",
              "      <td>6.111</td>\n",
              "      <td>5.802</td>\n",
              "      <td>1.0</td>\n",
              "      <td>NBA013</td>\n",
              "      <td>20.9</td>\n",
              "    </tr>\n",
              "    <tr>\n",
              "      <th>3</th>\n",
              "      <td>4</td>\n",
              "      <td>29</td>\n",
              "      <td>2</td>\n",
              "      <td>4</td>\n",
              "      <td>19</td>\n",
              "      <td>0.681</td>\n",
              "      <td>0.516</td>\n",
              "      <td>0.0</td>\n",
              "      <td>NBA009</td>\n",
              "      <td>6.3</td>\n",
              "    </tr>\n",
              "    <tr>\n",
              "      <th>4</th>\n",
              "      <td>5</td>\n",
              "      <td>47</td>\n",
              "      <td>1</td>\n",
              "      <td>31</td>\n",
              "      <td>253</td>\n",
              "      <td>9.308</td>\n",
              "      <td>8.908</td>\n",
              "      <td>0.0</td>\n",
              "      <td>NBA008</td>\n",
              "      <td>7.2</td>\n",
              "    </tr>\n",
              "  </tbody>\n",
              "</table>\n",
              "</div>"
            ],
            "text/plain": [
              "   Customer Id  Age  Edu  Years Employed  Income  Card Debt  Other Debt  \\\n",
              "0            1   41    2               6      19      0.124       1.073   \n",
              "1            2   47    1              26     100      4.582       8.218   \n",
              "2            3   33    2              10      57      6.111       5.802   \n",
              "3            4   29    2               4      19      0.681       0.516   \n",
              "4            5   47    1              31     253      9.308       8.908   \n",
              "\n",
              "   Defaulted Address  DebtIncomeRatio  \n",
              "0        0.0  NBA001              6.3  \n",
              "1        0.0  NBA021             12.8  \n",
              "2        1.0  NBA013             20.9  \n",
              "3        0.0  NBA009              6.3  \n",
              "4        0.0  NBA008              7.2  "
            ]
          },
          "execution_count": 3,
          "metadata": {},
          "output_type": "execute_result"
        }
      ]
    },
    {
      "cell_type": "code",
      "metadata": {
        "id": "af46ed32",
        "outputId": "990322dd-851c-4ef1-cb44-d42d8bd447b3"
      },
      "source": [
        "df.describe()"
      ],
      "id": "af46ed32",
      "execution_count": null,
      "outputs": [
        {
          "data": {
            "text/html": [
              "<div>\n",
              "<style scoped>\n",
              "    .dataframe tbody tr th:only-of-type {\n",
              "        vertical-align: middle;\n",
              "    }\n",
              "\n",
              "    .dataframe tbody tr th {\n",
              "        vertical-align: top;\n",
              "    }\n",
              "\n",
              "    .dataframe thead th {\n",
              "        text-align: right;\n",
              "    }\n",
              "</style>\n",
              "<table border=\"1\" class=\"dataframe\">\n",
              "  <thead>\n",
              "    <tr style=\"text-align: right;\">\n",
              "      <th></th>\n",
              "      <th>Customer Id</th>\n",
              "      <th>Age</th>\n",
              "      <th>Edu</th>\n",
              "      <th>Years Employed</th>\n",
              "      <th>Income</th>\n",
              "      <th>Card Debt</th>\n",
              "      <th>Other Debt</th>\n",
              "      <th>Defaulted</th>\n",
              "      <th>DebtIncomeRatio</th>\n",
              "    </tr>\n",
              "  </thead>\n",
              "  <tbody>\n",
              "    <tr>\n",
              "      <th>count</th>\n",
              "      <td>850.00000</td>\n",
              "      <td>850.000000</td>\n",
              "      <td>850.000000</td>\n",
              "      <td>850.000000</td>\n",
              "      <td>850.000000</td>\n",
              "      <td>850.000000</td>\n",
              "      <td>850.000000</td>\n",
              "      <td>700.000000</td>\n",
              "      <td>850.000000</td>\n",
              "    </tr>\n",
              "    <tr>\n",
              "      <th>mean</th>\n",
              "      <td>425.50000</td>\n",
              "      <td>35.029412</td>\n",
              "      <td>1.710588</td>\n",
              "      <td>8.565882</td>\n",
              "      <td>46.675294</td>\n",
              "      <td>1.576820</td>\n",
              "      <td>3.078773</td>\n",
              "      <td>0.261429</td>\n",
              "      <td>10.171647</td>\n",
              "    </tr>\n",
              "    <tr>\n",
              "      <th>std</th>\n",
              "      <td>245.51816</td>\n",
              "      <td>8.041432</td>\n",
              "      <td>0.927784</td>\n",
              "      <td>6.777884</td>\n",
              "      <td>38.543054</td>\n",
              "      <td>2.125843</td>\n",
              "      <td>3.398799</td>\n",
              "      <td>0.439727</td>\n",
              "      <td>6.719441</td>\n",
              "    </tr>\n",
              "    <tr>\n",
              "      <th>min</th>\n",
              "      <td>1.00000</td>\n",
              "      <td>20.000000</td>\n",
              "      <td>1.000000</td>\n",
              "      <td>0.000000</td>\n",
              "      <td>13.000000</td>\n",
              "      <td>0.012000</td>\n",
              "      <td>0.046000</td>\n",
              "      <td>0.000000</td>\n",
              "      <td>0.100000</td>\n",
              "    </tr>\n",
              "    <tr>\n",
              "      <th>25%</th>\n",
              "      <td>213.25000</td>\n",
              "      <td>29.000000</td>\n",
              "      <td>1.000000</td>\n",
              "      <td>3.000000</td>\n",
              "      <td>24.000000</td>\n",
              "      <td>0.382500</td>\n",
              "      <td>1.045750</td>\n",
              "      <td>0.000000</td>\n",
              "      <td>5.100000</td>\n",
              "    </tr>\n",
              "    <tr>\n",
              "      <th>50%</th>\n",
              "      <td>425.50000</td>\n",
              "      <td>34.000000</td>\n",
              "      <td>1.000000</td>\n",
              "      <td>7.000000</td>\n",
              "      <td>35.000000</td>\n",
              "      <td>0.885000</td>\n",
              "      <td>2.003000</td>\n",
              "      <td>0.000000</td>\n",
              "      <td>8.700000</td>\n",
              "    </tr>\n",
              "    <tr>\n",
              "      <th>75%</th>\n",
              "      <td>637.75000</td>\n",
              "      <td>41.000000</td>\n",
              "      <td>2.000000</td>\n",
              "      <td>13.000000</td>\n",
              "      <td>55.750000</td>\n",
              "      <td>1.898500</td>\n",
              "      <td>3.903250</td>\n",
              "      <td>1.000000</td>\n",
              "      <td>13.800000</td>\n",
              "    </tr>\n",
              "    <tr>\n",
              "      <th>max</th>\n",
              "      <td>850.00000</td>\n",
              "      <td>56.000000</td>\n",
              "      <td>5.000000</td>\n",
              "      <td>33.000000</td>\n",
              "      <td>446.000000</td>\n",
              "      <td>20.561000</td>\n",
              "      <td>35.197000</td>\n",
              "      <td>1.000000</td>\n",
              "      <td>41.300000</td>\n",
              "    </tr>\n",
              "  </tbody>\n",
              "</table>\n",
              "</div>"
            ],
            "text/plain": [
              "       Customer Id         Age         Edu  Years Employed      Income  \\\n",
              "count    850.00000  850.000000  850.000000      850.000000  850.000000   \n",
              "mean     425.50000   35.029412    1.710588        8.565882   46.675294   \n",
              "std      245.51816    8.041432    0.927784        6.777884   38.543054   \n",
              "min        1.00000   20.000000    1.000000        0.000000   13.000000   \n",
              "25%      213.25000   29.000000    1.000000        3.000000   24.000000   \n",
              "50%      425.50000   34.000000    1.000000        7.000000   35.000000   \n",
              "75%      637.75000   41.000000    2.000000       13.000000   55.750000   \n",
              "max      850.00000   56.000000    5.000000       33.000000  446.000000   \n",
              "\n",
              "        Card Debt  Other Debt   Defaulted  DebtIncomeRatio  \n",
              "count  850.000000  850.000000  700.000000       850.000000  \n",
              "mean     1.576820    3.078773    0.261429        10.171647  \n",
              "std      2.125843    3.398799    0.439727         6.719441  \n",
              "min      0.012000    0.046000    0.000000         0.100000  \n",
              "25%      0.382500    1.045750    0.000000         5.100000  \n",
              "50%      0.885000    2.003000    0.000000         8.700000  \n",
              "75%      1.898500    3.903250    1.000000        13.800000  \n",
              "max     20.561000   35.197000    1.000000        41.300000  "
            ]
          },
          "execution_count": 4,
          "metadata": {},
          "output_type": "execute_result"
        }
      ]
    },
    {
      "cell_type": "code",
      "metadata": {
        "id": "9500f3a7",
        "outputId": "4c1e34e1-681f-4760-9d19-e45b1cd28490"
      },
      "source": [
        "df.info()"
      ],
      "id": "9500f3a7",
      "execution_count": null,
      "outputs": [
        {
          "name": "stdout",
          "output_type": "stream",
          "text": [
            "<class 'pandas.core.frame.DataFrame'>\n",
            "RangeIndex: 850 entries, 0 to 849\n",
            "Data columns (total 10 columns):\n",
            " #   Column           Non-Null Count  Dtype  \n",
            "---  ------           --------------  -----  \n",
            " 0   Customer Id      850 non-null    int64  \n",
            " 1   Age              850 non-null    int64  \n",
            " 2   Edu              850 non-null    int64  \n",
            " 3   Years Employed   850 non-null    int64  \n",
            " 4   Income           850 non-null    int64  \n",
            " 5   Card Debt        850 non-null    float64\n",
            " 6   Other Debt       850 non-null    float64\n",
            " 7   Defaulted        700 non-null    float64\n",
            " 8   Address          850 non-null    object \n",
            " 9   DebtIncomeRatio  850 non-null    float64\n",
            "dtypes: float64(4), int64(5), object(1)\n",
            "memory usage: 66.5+ KB\n"
          ]
        }
      ]
    },
    {
      "cell_type": "code",
      "metadata": {
        "id": "2a3498fc",
        "outputId": "14d05df1-3329-4837-8285-4606376e108d"
      },
      "source": [
        "df.shape"
      ],
      "id": "2a3498fc",
      "execution_count": null,
      "outputs": [
        {
          "data": {
            "text/plain": [
              "(850, 10)"
            ]
          },
          "execution_count": 6,
          "metadata": {},
          "output_type": "execute_result"
        }
      ]
    },
    {
      "cell_type": "code",
      "metadata": {
        "id": "a9d15c19"
      },
      "source": [
        "df=df.drop('Address',axis=1)"
      ],
      "id": "a9d15c19",
      "execution_count": null,
      "outputs": []
    },
    {
      "cell_type": "code",
      "metadata": {
        "id": "e8d77829",
        "outputId": "4da6bb4f-beb5-488c-8b5f-bb68511e5baf"
      },
      "source": [
        "df"
      ],
      "id": "e8d77829",
      "execution_count": null,
      "outputs": [
        {
          "data": {
            "text/html": [
              "<div>\n",
              "<style scoped>\n",
              "    .dataframe tbody tr th:only-of-type {\n",
              "        vertical-align: middle;\n",
              "    }\n",
              "\n",
              "    .dataframe tbody tr th {\n",
              "        vertical-align: top;\n",
              "    }\n",
              "\n",
              "    .dataframe thead th {\n",
              "        text-align: right;\n",
              "    }\n",
              "</style>\n",
              "<table border=\"1\" class=\"dataframe\">\n",
              "  <thead>\n",
              "    <tr style=\"text-align: right;\">\n",
              "      <th></th>\n",
              "      <th>Customer Id</th>\n",
              "      <th>Age</th>\n",
              "      <th>Edu</th>\n",
              "      <th>Years Employed</th>\n",
              "      <th>Income</th>\n",
              "      <th>Card Debt</th>\n",
              "      <th>Other Debt</th>\n",
              "      <th>Defaulted</th>\n",
              "      <th>DebtIncomeRatio</th>\n",
              "    </tr>\n",
              "  </thead>\n",
              "  <tbody>\n",
              "    <tr>\n",
              "      <th>0</th>\n",
              "      <td>1</td>\n",
              "      <td>41</td>\n",
              "      <td>2</td>\n",
              "      <td>6</td>\n",
              "      <td>19</td>\n",
              "      <td>0.124</td>\n",
              "      <td>1.073</td>\n",
              "      <td>0.0</td>\n",
              "      <td>6.3</td>\n",
              "    </tr>\n",
              "    <tr>\n",
              "      <th>1</th>\n",
              "      <td>2</td>\n",
              "      <td>47</td>\n",
              "      <td>1</td>\n",
              "      <td>26</td>\n",
              "      <td>100</td>\n",
              "      <td>4.582</td>\n",
              "      <td>8.218</td>\n",
              "      <td>0.0</td>\n",
              "      <td>12.8</td>\n",
              "    </tr>\n",
              "    <tr>\n",
              "      <th>2</th>\n",
              "      <td>3</td>\n",
              "      <td>33</td>\n",
              "      <td>2</td>\n",
              "      <td>10</td>\n",
              "      <td>57</td>\n",
              "      <td>6.111</td>\n",
              "      <td>5.802</td>\n",
              "      <td>1.0</td>\n",
              "      <td>20.9</td>\n",
              "    </tr>\n",
              "    <tr>\n",
              "      <th>3</th>\n",
              "      <td>4</td>\n",
              "      <td>29</td>\n",
              "      <td>2</td>\n",
              "      <td>4</td>\n",
              "      <td>19</td>\n",
              "      <td>0.681</td>\n",
              "      <td>0.516</td>\n",
              "      <td>0.0</td>\n",
              "      <td>6.3</td>\n",
              "    </tr>\n",
              "    <tr>\n",
              "      <th>4</th>\n",
              "      <td>5</td>\n",
              "      <td>47</td>\n",
              "      <td>1</td>\n",
              "      <td>31</td>\n",
              "      <td>253</td>\n",
              "      <td>9.308</td>\n",
              "      <td>8.908</td>\n",
              "      <td>0.0</td>\n",
              "      <td>7.2</td>\n",
              "    </tr>\n",
              "    <tr>\n",
              "      <th>...</th>\n",
              "      <td>...</td>\n",
              "      <td>...</td>\n",
              "      <td>...</td>\n",
              "      <td>...</td>\n",
              "      <td>...</td>\n",
              "      <td>...</td>\n",
              "      <td>...</td>\n",
              "      <td>...</td>\n",
              "      <td>...</td>\n",
              "    </tr>\n",
              "    <tr>\n",
              "      <th>845</th>\n",
              "      <td>846</td>\n",
              "      <td>27</td>\n",
              "      <td>1</td>\n",
              "      <td>5</td>\n",
              "      <td>26</td>\n",
              "      <td>0.548</td>\n",
              "      <td>1.220</td>\n",
              "      <td>NaN</td>\n",
              "      <td>6.8</td>\n",
              "    </tr>\n",
              "    <tr>\n",
              "      <th>846</th>\n",
              "      <td>847</td>\n",
              "      <td>28</td>\n",
              "      <td>2</td>\n",
              "      <td>7</td>\n",
              "      <td>34</td>\n",
              "      <td>0.359</td>\n",
              "      <td>2.021</td>\n",
              "      <td>0.0</td>\n",
              "      <td>7.0</td>\n",
              "    </tr>\n",
              "    <tr>\n",
              "      <th>847</th>\n",
              "      <td>848</td>\n",
              "      <td>25</td>\n",
              "      <td>4</td>\n",
              "      <td>0</td>\n",
              "      <td>18</td>\n",
              "      <td>2.802</td>\n",
              "      <td>3.210</td>\n",
              "      <td>1.0</td>\n",
              "      <td>33.4</td>\n",
              "    </tr>\n",
              "    <tr>\n",
              "      <th>848</th>\n",
              "      <td>849</td>\n",
              "      <td>32</td>\n",
              "      <td>1</td>\n",
              "      <td>12</td>\n",
              "      <td>28</td>\n",
              "      <td>0.116</td>\n",
              "      <td>0.696</td>\n",
              "      <td>0.0</td>\n",
              "      <td>2.9</td>\n",
              "    </tr>\n",
              "    <tr>\n",
              "      <th>849</th>\n",
              "      <td>850</td>\n",
              "      <td>52</td>\n",
              "      <td>1</td>\n",
              "      <td>16</td>\n",
              "      <td>64</td>\n",
              "      <td>1.866</td>\n",
              "      <td>3.638</td>\n",
              "      <td>0.0</td>\n",
              "      <td>8.6</td>\n",
              "    </tr>\n",
              "  </tbody>\n",
              "</table>\n",
              "<p>850 rows × 9 columns</p>\n",
              "</div>"
            ],
            "text/plain": [
              "     Customer Id  Age  Edu  Years Employed  Income  Card Debt  Other Debt  \\\n",
              "0              1   41    2               6      19      0.124       1.073   \n",
              "1              2   47    1              26     100      4.582       8.218   \n",
              "2              3   33    2              10      57      6.111       5.802   \n",
              "3              4   29    2               4      19      0.681       0.516   \n",
              "4              5   47    1              31     253      9.308       8.908   \n",
              "..           ...  ...  ...             ...     ...        ...         ...   \n",
              "845          846   27    1               5      26      0.548       1.220   \n",
              "846          847   28    2               7      34      0.359       2.021   \n",
              "847          848   25    4               0      18      2.802       3.210   \n",
              "848          849   32    1              12      28      0.116       0.696   \n",
              "849          850   52    1              16      64      1.866       3.638   \n",
              "\n",
              "     Defaulted  DebtIncomeRatio  \n",
              "0          0.0              6.3  \n",
              "1          0.0             12.8  \n",
              "2          1.0             20.9  \n",
              "3          0.0              6.3  \n",
              "4          0.0              7.2  \n",
              "..         ...              ...  \n",
              "845        NaN              6.8  \n",
              "846        0.0              7.0  \n",
              "847        1.0             33.4  \n",
              "848        0.0              2.9  \n",
              "849        0.0              8.6  \n",
              "\n",
              "[850 rows x 9 columns]"
            ]
          },
          "execution_count": 8,
          "metadata": {},
          "output_type": "execute_result"
        }
      ]
    },
    {
      "cell_type": "code",
      "metadata": {
        "id": "4ca812d6"
      },
      "source": [
        "import numpy as np\n",
        "df.replace(\"?\",np.nan,inplace=True)\n"
      ],
      "id": "4ca812d6",
      "execution_count": null,
      "outputs": []
    },
    {
      "cell_type": "code",
      "metadata": {
        "id": "1d57fb78"
      },
      "source": [
        "avg_Defaulted=df[\"Defaulted\"].mean()\n",
        "df[\"Defaulted\"].replace(np.nan,avg_Defaulted,inplace=True)"
      ],
      "id": "1d57fb78",
      "execution_count": null,
      "outputs": []
    },
    {
      "cell_type": "code",
      "metadata": {
        "id": "03f03620",
        "outputId": "c81e5e2f-4c10-4852-a406-c630bd464999"
      },
      "source": [
        "df.shape"
      ],
      "id": "03f03620",
      "execution_count": null,
      "outputs": [
        {
          "data": {
            "text/plain": [
              "(850, 9)"
            ]
          },
          "execution_count": 39,
          "metadata": {},
          "output_type": "execute_result"
        }
      ]
    },
    {
      "cell_type": "code",
      "metadata": {
        "id": "b1394fd8"
      },
      "source": [
        "from sklearn.preprocessing import StandardScaler"
      ],
      "id": "b1394fd8",
      "execution_count": null,
      "outputs": []
    },
    {
      "cell_type": "code",
      "metadata": {
        "id": "6f7b573f"
      },
      "source": [
        "X=df.values[:,1:]\n",
        "\n"
      ],
      "id": "6f7b573f",
      "execution_count": null,
      "outputs": []
    },
    {
      "cell_type": "code",
      "metadata": {
        "id": "9caa4b9e",
        "outputId": "f43f514e-455c-4e30-e43c-7688ea7c82a7"
      },
      "source": [
        "X"
      ],
      "id": "9caa4b9e",
      "execution_count": null,
      "outputs": [
        {
          "data": {
            "text/plain": [
              "array([[41.   ,  2.   ,  6.   , ...,  1.073,  0.   ,  6.3  ],\n",
              "       [47.   ,  1.   , 26.   , ...,  8.218,  0.   , 12.8  ],\n",
              "       [33.   ,  2.   , 10.   , ...,  5.802,  1.   , 20.9  ],\n",
              "       ...,\n",
              "       [25.   ,  4.   ,  0.   , ...,  3.21 ,  1.   , 33.4  ],\n",
              "       [32.   ,  1.   , 12.   , ...,  0.696,  0.   ,  2.9  ],\n",
              "       [52.   ,  1.   , 16.   , ...,  3.638,  0.   ,  8.6  ]])"
            ]
          },
          "execution_count": 41,
          "metadata": {},
          "output_type": "execute_result"
        }
      ]
    },
    {
      "cell_type": "code",
      "metadata": {
        "id": "234ec3c6"
      },
      "source": [
        "X2=np.nan_to_num(X)"
      ],
      "id": "234ec3c6",
      "execution_count": null,
      "outputs": []
    },
    {
      "cell_type": "code",
      "metadata": {
        "id": "c2532789"
      },
      "source": [
        "# Scalling Operatio Z Score"
      ],
      "id": "c2532789",
      "execution_count": null,
      "outputs": []
    },
    {
      "cell_type": "code",
      "metadata": {
        "id": "7adc159a"
      },
      "source": [
        "X3=sklearn.preprocessing.StandardScaler().fit_transform(X)"
      ],
      "id": "7adc159a",
      "execution_count": null,
      "outputs": []
    },
    {
      "cell_type": "code",
      "metadata": {
        "id": "db88c2d8",
        "outputId": "b0ebbe74-0f1c-4ca1-ef65-a9ad086dd9f1"
      },
      "source": [
        "X3"
      ],
      "id": "db88c2d8",
      "execution_count": null,
      "outputs": [
        {
          "data": {
            "text/plain": [
              "array([[ 0.74291541,  0.31212243, -0.37878978, ..., -0.59048916,\n",
              "        -0.65560267, -0.57652509],\n",
              "       [ 1.48949049, -0.76634938,  2.5737211 , ...,  1.51296181,\n",
              "        -0.65560267,  0.39138677],\n",
              "       [-0.25251804,  0.31212243,  0.2117124 , ...,  0.80170393,\n",
              "         1.85216712,  1.59755385],\n",
              "       ...,\n",
              "       [-1.24795149,  2.46906604, -1.26454304, ...,  0.03863257,\n",
              "         1.85216712,  3.45892281],\n",
              "       [-0.37694723, -0.76634938,  0.50696349, ..., -0.70147601,\n",
              "        -0.65560267, -1.08281745],\n",
              "       [ 2.1116364 , -0.76634938,  1.09746566, ...,  0.16463355,\n",
              "        -0.65560267, -0.2340332 ]])"
            ]
          },
          "execution_count": 44,
          "metadata": {},
          "output_type": "execute_result"
        }
      ]
    },
    {
      "cell_type": "code",
      "metadata": {
        "id": "2b07ba4d"
      },
      "source": [
        "from sklearn.cluster import KMeans"
      ],
      "id": "2b07ba4d",
      "execution_count": null,
      "outputs": []
    },
    {
      "cell_type": "code",
      "metadata": {
        "id": "dd6a45ce"
      },
      "source": [
        "clf=KMeans(n_clusters=3, init='k-means++', n_init=10, max_iter=300)"
      ],
      "id": "dd6a45ce",
      "execution_count": null,
      "outputs": []
    },
    {
      "cell_type": "code",
      "metadata": {
        "id": "faa055bc",
        "outputId": "a3c78e40-11ba-4f2e-e553-617981197b33"
      },
      "source": [
        "clf.fit(X3)"
      ],
      "id": "faa055bc",
      "execution_count": null,
      "outputs": [
        {
          "data": {
            "text/plain": [
              "KMeans(n_clusters=3)"
            ]
          },
          "execution_count": 53,
          "metadata": {},
          "output_type": "execute_result"
        }
      ]
    },
    {
      "cell_type": "code",
      "metadata": {
        "id": "0323ab7b",
        "outputId": "e7cb837a-8fc0-4793-bb05-17095cd36039"
      },
      "source": [
        "clf.labels_"
      ],
      "id": "0323ab7b",
      "execution_count": null,
      "outputs": [
        {
          "data": {
            "text/plain": [
              "array([2, 1, 0, 2, 1, 1, 2, 2, 2, 1, 0, 2, 2, 2, 0, 2, 2, 2, 1, 2, 2, 2,\n",
              "       0, 1, 1, 2, 2, 2, 2, 2, 2, 1, 0, 2, 2, 2, 0, 0, 2, 1, 0, 1, 0, 1,\n",
              "       2, 1, 2, 2, 2, 2, 1, 1, 0, 2, 0, 0, 0, 2, 2, 2, 1, 2, 1, 1, 2, 2,\n",
              "       2, 0, 2, 0, 2, 2, 2, 0, 2, 2, 2, 2, 1, 2, 2, 0, 1, 2, 1, 2, 0, 2,\n",
              "       0, 0, 2, 2, 0, 0, 2, 2, 2, 2, 0, 2, 0, 1, 2, 0, 0, 1, 2, 2, 2, 2,\n",
              "       2, 0, 2, 0, 2, 2, 2, 2, 1, 2, 2, 2, 2, 2, 2, 2, 2, 2, 2, 2, 2, 2,\n",
              "       2, 2, 2, 2, 2, 2, 2, 0, 0, 2, 2, 2, 1, 2, 2, 0, 2, 2, 2, 1, 0, 2,\n",
              "       2, 2, 2, 1, 0, 0, 2, 2, 2, 2, 2, 2, 2, 2, 2, 2, 1, 2, 2, 0, 2, 0,\n",
              "       2, 2, 0, 1, 0, 2, 2, 1, 0, 0, 2, 2, 2, 2, 0, 1, 2, 0, 2, 2, 2, 1,\n",
              "       1, 2, 1, 2, 0, 2, 2, 0, 2, 1, 2, 0, 2, 2, 2, 2, 2, 0, 0, 0, 2, 2,\n",
              "       0, 1, 2, 2, 2, 2, 1, 2, 0, 0, 2, 2, 2, 2, 1, 2, 2, 0, 1, 2, 2, 2,\n",
              "       2, 2, 2, 1, 2, 2, 2, 2, 2, 2, 2, 2, 1, 0, 2, 0, 2, 2, 2, 0, 2, 0,\n",
              "       1, 0, 2, 1, 2, 2, 0, 2, 2, 2, 2, 0, 0, 0, 2, 2, 2, 1, 2, 2, 1, 2,\n",
              "       1, 2, 2, 1, 2, 2, 2, 0, 2, 2, 0, 2, 0, 1, 2, 2, 2, 2, 0, 2, 2, 0,\n",
              "       0, 2, 2, 2, 2, 2, 2, 2, 2, 0, 2, 0, 1, 2, 0, 2, 2, 2, 0, 0, 2, 2,\n",
              "       2, 1, 0, 2, 2, 0, 2, 1, 2, 2, 2, 2, 2, 0, 1, 2, 2, 2, 2, 2, 1, 2,\n",
              "       2, 2, 2, 2, 1, 2, 2, 2, 1, 0, 2, 0, 2, 2, 2, 1, 1, 2, 0, 2, 1, 0,\n",
              "       0, 2, 0, 2, 0, 2, 2, 2, 2, 2, 1, 2, 1, 2, 2, 2, 2, 0, 2, 0, 2, 2,\n",
              "       2, 1, 2, 2, 2, 2, 0, 2, 2, 0, 0, 1, 2, 2, 2, 2, 2, 0, 0, 2, 1, 0,\n",
              "       1, 2, 2, 0, 2, 2, 1, 1, 2, 0, 2, 2, 1, 2, 0, 2, 1, 2, 2, 2, 1, 2,\n",
              "       2, 2, 2, 1, 2, 0, 2, 2, 2, 2, 1, 0, 2, 2, 1, 2, 0, 2, 2, 1, 2, 1,\n",
              "       2, 2, 2, 2, 2, 2, 2, 1, 1, 2, 2, 1, 2, 0, 2, 2, 2, 0, 2, 0, 2, 2,\n",
              "       2, 2, 2, 1, 0, 0, 2, 1, 2, 1, 2, 2, 0, 1, 2, 0, 0, 0, 1, 1, 0, 2,\n",
              "       2, 0, 2, 0, 0, 2, 0, 1, 2, 2, 0, 2, 0, 1, 0, 2, 2, 0, 2, 2, 0, 0,\n",
              "       0, 2, 2, 2, 1, 1, 2, 2, 0, 2, 2, 0, 1, 2, 0, 2, 2, 2, 0, 2, 1, 2,\n",
              "       1, 1, 2, 1, 2, 2, 1, 2, 0, 2, 2, 2, 2, 0, 0, 2, 1, 2, 1, 2, 2, 1,\n",
              "       2, 0, 2, 0, 2, 0, 0, 0, 1, 0, 2, 2, 2, 0, 2, 2, 2, 1, 2, 1, 2, 0,\n",
              "       0, 2, 2, 2, 2, 2, 2, 2, 0, 1, 2, 1, 0, 2, 0, 2, 2, 2, 0, 2, 2, 0,\n",
              "       0, 0, 0, 2, 1, 2, 0, 0, 2, 2, 2, 2, 1, 1, 2, 0, 2, 2, 1, 2, 2, 1,\n",
              "       2, 1, 2, 2, 1, 0, 1, 1, 1, 0, 2, 2, 0, 2, 1, 1, 2, 2, 2, 1, 0, 2,\n",
              "       2, 2, 2, 1, 2, 2, 2, 2, 2, 0, 2, 2, 1, 2, 2, 1, 2, 2, 2, 2, 2, 2,\n",
              "       0, 1, 2, 2, 0, 2, 2, 2, 2, 0, 2, 1, 2, 2, 1, 2, 2, 0, 2, 0, 2, 0,\n",
              "       0, 2, 2, 2, 1, 0, 1, 2, 1, 1, 2, 0, 2, 1, 2, 1, 2, 2, 2, 2, 0, 1,\n",
              "       2, 0, 2, 2, 1, 1, 2, 2, 1, 2, 2, 2, 2, 2, 2, 2, 2, 0, 2, 2, 1, 2,\n",
              "       0, 2, 2, 2, 2, 2, 0, 2, 2, 2, 1, 0, 1, 1, 2, 2, 2, 0, 2, 2, 2, 0,\n",
              "       0, 2, 0, 2, 2, 2, 1, 2, 2, 2, 2, 2, 2, 2, 1, 2, 2, 2, 2, 2, 2, 1,\n",
              "       1, 0, 0, 2, 0, 2, 0, 2, 2, 1, 0, 2, 2, 2, 2, 2, 1, 0, 2, 2, 2, 0,\n",
              "       2, 2, 0, 2, 2, 2, 2, 2, 2, 0, 0, 1, 1, 2, 2, 2, 0, 2, 2, 2, 2, 0,\n",
              "       2, 2, 2, 2, 2, 2, 2, 2, 2, 2, 2, 0, 2, 1])"
            ]
          },
          "execution_count": 54,
          "metadata": {},
          "output_type": "execute_result"
        }
      ]
    },
    {
      "cell_type": "code",
      "metadata": {
        "id": "c93f21b3"
      },
      "source": [
        "df[\"Final\"]=clf.labels_"
      ],
      "id": "c93f21b3",
      "execution_count": null,
      "outputs": []
    },
    {
      "cell_type": "code",
      "metadata": {
        "id": "b692763e",
        "outputId": "6146bb79-08aa-48f2-9678-b9baee555b57"
      },
      "source": [
        "df"
      ],
      "id": "b692763e",
      "execution_count": null,
      "outputs": [
        {
          "data": {
            "text/html": [
              "<div>\n",
              "<style scoped>\n",
              "    .dataframe tbody tr th:only-of-type {\n",
              "        vertical-align: middle;\n",
              "    }\n",
              "\n",
              "    .dataframe tbody tr th {\n",
              "        vertical-align: top;\n",
              "    }\n",
              "\n",
              "    .dataframe thead th {\n",
              "        text-align: right;\n",
              "    }\n",
              "</style>\n",
              "<table border=\"1\" class=\"dataframe\">\n",
              "  <thead>\n",
              "    <tr style=\"text-align: right;\">\n",
              "      <th></th>\n",
              "      <th>Customer Id</th>\n",
              "      <th>Age</th>\n",
              "      <th>Edu</th>\n",
              "      <th>Years Employed</th>\n",
              "      <th>Income</th>\n",
              "      <th>Card Debt</th>\n",
              "      <th>Other Debt</th>\n",
              "      <th>Defaulted</th>\n",
              "      <th>DebtIncomeRatio</th>\n",
              "      <th>Final</th>\n",
              "    </tr>\n",
              "  </thead>\n",
              "  <tbody>\n",
              "    <tr>\n",
              "      <th>0</th>\n",
              "      <td>1</td>\n",
              "      <td>41</td>\n",
              "      <td>2</td>\n",
              "      <td>6</td>\n",
              "      <td>19</td>\n",
              "      <td>0.124</td>\n",
              "      <td>1.073</td>\n",
              "      <td>0.000000</td>\n",
              "      <td>6.3</td>\n",
              "      <td>2</td>\n",
              "    </tr>\n",
              "    <tr>\n",
              "      <th>1</th>\n",
              "      <td>2</td>\n",
              "      <td>47</td>\n",
              "      <td>1</td>\n",
              "      <td>26</td>\n",
              "      <td>100</td>\n",
              "      <td>4.582</td>\n",
              "      <td>8.218</td>\n",
              "      <td>0.000000</td>\n",
              "      <td>12.8</td>\n",
              "      <td>1</td>\n",
              "    </tr>\n",
              "    <tr>\n",
              "      <th>2</th>\n",
              "      <td>3</td>\n",
              "      <td>33</td>\n",
              "      <td>2</td>\n",
              "      <td>10</td>\n",
              "      <td>57</td>\n",
              "      <td>6.111</td>\n",
              "      <td>5.802</td>\n",
              "      <td>1.000000</td>\n",
              "      <td>20.9</td>\n",
              "      <td>0</td>\n",
              "    </tr>\n",
              "    <tr>\n",
              "      <th>3</th>\n",
              "      <td>4</td>\n",
              "      <td>29</td>\n",
              "      <td>2</td>\n",
              "      <td>4</td>\n",
              "      <td>19</td>\n",
              "      <td>0.681</td>\n",
              "      <td>0.516</td>\n",
              "      <td>0.000000</td>\n",
              "      <td>6.3</td>\n",
              "      <td>2</td>\n",
              "    </tr>\n",
              "    <tr>\n",
              "      <th>4</th>\n",
              "      <td>5</td>\n",
              "      <td>47</td>\n",
              "      <td>1</td>\n",
              "      <td>31</td>\n",
              "      <td>253</td>\n",
              "      <td>9.308</td>\n",
              "      <td>8.908</td>\n",
              "      <td>0.000000</td>\n",
              "      <td>7.2</td>\n",
              "      <td>1</td>\n",
              "    </tr>\n",
              "    <tr>\n",
              "      <th>...</th>\n",
              "      <td>...</td>\n",
              "      <td>...</td>\n",
              "      <td>...</td>\n",
              "      <td>...</td>\n",
              "      <td>...</td>\n",
              "      <td>...</td>\n",
              "      <td>...</td>\n",
              "      <td>...</td>\n",
              "      <td>...</td>\n",
              "      <td>...</td>\n",
              "    </tr>\n",
              "    <tr>\n",
              "      <th>845</th>\n",
              "      <td>846</td>\n",
              "      <td>27</td>\n",
              "      <td>1</td>\n",
              "      <td>5</td>\n",
              "      <td>26</td>\n",
              "      <td>0.548</td>\n",
              "      <td>1.220</td>\n",
              "      <td>0.261429</td>\n",
              "      <td>6.8</td>\n",
              "      <td>2</td>\n",
              "    </tr>\n",
              "    <tr>\n",
              "      <th>846</th>\n",
              "      <td>847</td>\n",
              "      <td>28</td>\n",
              "      <td>2</td>\n",
              "      <td>7</td>\n",
              "      <td>34</td>\n",
              "      <td>0.359</td>\n",
              "      <td>2.021</td>\n",
              "      <td>0.000000</td>\n",
              "      <td>7.0</td>\n",
              "      <td>2</td>\n",
              "    </tr>\n",
              "    <tr>\n",
              "      <th>847</th>\n",
              "      <td>848</td>\n",
              "      <td>25</td>\n",
              "      <td>4</td>\n",
              "      <td>0</td>\n",
              "      <td>18</td>\n",
              "      <td>2.802</td>\n",
              "      <td>3.210</td>\n",
              "      <td>1.000000</td>\n",
              "      <td>33.4</td>\n",
              "      <td>0</td>\n",
              "    </tr>\n",
              "    <tr>\n",
              "      <th>848</th>\n",
              "      <td>849</td>\n",
              "      <td>32</td>\n",
              "      <td>1</td>\n",
              "      <td>12</td>\n",
              "      <td>28</td>\n",
              "      <td>0.116</td>\n",
              "      <td>0.696</td>\n",
              "      <td>0.000000</td>\n",
              "      <td>2.9</td>\n",
              "      <td>2</td>\n",
              "    </tr>\n",
              "    <tr>\n",
              "      <th>849</th>\n",
              "      <td>850</td>\n",
              "      <td>52</td>\n",
              "      <td>1</td>\n",
              "      <td>16</td>\n",
              "      <td>64</td>\n",
              "      <td>1.866</td>\n",
              "      <td>3.638</td>\n",
              "      <td>0.000000</td>\n",
              "      <td>8.6</td>\n",
              "      <td>1</td>\n",
              "    </tr>\n",
              "  </tbody>\n",
              "</table>\n",
              "<p>850 rows × 10 columns</p>\n",
              "</div>"
            ],
            "text/plain": [
              "     Customer Id  Age  Edu  Years Employed  Income  Card Debt  Other Debt  \\\n",
              "0              1   41    2               6      19      0.124       1.073   \n",
              "1              2   47    1              26     100      4.582       8.218   \n",
              "2              3   33    2              10      57      6.111       5.802   \n",
              "3              4   29    2               4      19      0.681       0.516   \n",
              "4              5   47    1              31     253      9.308       8.908   \n",
              "..           ...  ...  ...             ...     ...        ...         ...   \n",
              "845          846   27    1               5      26      0.548       1.220   \n",
              "846          847   28    2               7      34      0.359       2.021   \n",
              "847          848   25    4               0      18      2.802       3.210   \n",
              "848          849   32    1              12      28      0.116       0.696   \n",
              "849          850   52    1              16      64      1.866       3.638   \n",
              "\n",
              "     Defaulted  DebtIncomeRatio  Final  \n",
              "0     0.000000              6.3      2  \n",
              "1     0.000000             12.8      1  \n",
              "2     1.000000             20.9      0  \n",
              "3     0.000000              6.3      2  \n",
              "4     0.000000              7.2      1  \n",
              "..         ...              ...    ...  \n",
              "845   0.261429              6.8      2  \n",
              "846   0.000000              7.0      2  \n",
              "847   1.000000             33.4      0  \n",
              "848   0.000000              2.9      2  \n",
              "849   0.000000              8.6      1  \n",
              "\n",
              "[850 rows x 10 columns]"
            ]
          },
          "execution_count": 58,
          "metadata": {},
          "output_type": "execute_result"
        }
      ]
    },
    {
      "cell_type": "code",
      "metadata": {
        "id": "3536c99d",
        "outputId": "9e765622-0c07-414b-e701-16a1916059f6"
      },
      "source": [
        "df.groupby('Final').mean()"
      ],
      "id": "3536c99d",
      "execution_count": null,
      "outputs": [
        {
          "data": {
            "text/html": [
              "<div>\n",
              "<style scoped>\n",
              "    .dataframe tbody tr th:only-of-type {\n",
              "        vertical-align: middle;\n",
              "    }\n",
              "\n",
              "    .dataframe tbody tr th {\n",
              "        vertical-align: top;\n",
              "    }\n",
              "\n",
              "    .dataframe thead th {\n",
              "        text-align: right;\n",
              "    }\n",
              "</style>\n",
              "<table border=\"1\" class=\"dataframe\">\n",
              "  <thead>\n",
              "    <tr style=\"text-align: right;\">\n",
              "      <th></th>\n",
              "      <th>Customer Id</th>\n",
              "      <th>Age</th>\n",
              "      <th>Edu</th>\n",
              "      <th>Years Employed</th>\n",
              "      <th>Income</th>\n",
              "      <th>Card Debt</th>\n",
              "      <th>Other Debt</th>\n",
              "      <th>Defaulted</th>\n",
              "      <th>DebtIncomeRatio</th>\n",
              "    </tr>\n",
              "    <tr>\n",
              "      <th>Final</th>\n",
              "      <th></th>\n",
              "      <th></th>\n",
              "      <th></th>\n",
              "      <th></th>\n",
              "      <th></th>\n",
              "      <th></th>\n",
              "      <th></th>\n",
              "      <th></th>\n",
              "      <th></th>\n",
              "    </tr>\n",
              "  </thead>\n",
              "  <tbody>\n",
              "    <tr>\n",
              "      <th>0</th>\n",
              "      <td>419.635359</td>\n",
              "      <td>31.491713</td>\n",
              "      <td>1.939227</td>\n",
              "      <td>3.895028</td>\n",
              "      <td>32.408840</td>\n",
              "      <td>1.709017</td>\n",
              "      <td>2.946707</td>\n",
              "      <td>0.923410</td>\n",
              "      <td>14.388398</td>\n",
              "    </tr>\n",
              "    <tr>\n",
              "      <th>1</th>\n",
              "      <td>431.774648</td>\n",
              "      <td>43.450704</td>\n",
              "      <td>1.901408</td>\n",
              "      <td>17.528169</td>\n",
              "      <td>103.478873</td>\n",
              "      <td>4.174197</td>\n",
              "      <td>8.059282</td>\n",
              "      <td>0.185352</td>\n",
              "      <td>13.746479</td>\n",
              "    </tr>\n",
              "    <tr>\n",
              "      <th>2</th>\n",
              "      <td>425.823529</td>\n",
              "      <td>33.975332</td>\n",
              "      <td>1.580645</td>\n",
              "      <td>7.755218</td>\n",
              "      <td>36.269450</td>\n",
              "      <td>0.831554</td>\n",
              "      <td>1.782135</td>\n",
              "      <td>0.054568</td>\n",
              "      <td>7.760152</td>\n",
              "    </tr>\n",
              "  </tbody>\n",
              "</table>\n",
              "</div>"
            ],
            "text/plain": [
              "       Customer Id        Age       Edu  Years Employed      Income  \\\n",
              "Final                                                                 \n",
              "0       419.635359  31.491713  1.939227        3.895028   32.408840   \n",
              "1       431.774648  43.450704  1.901408       17.528169  103.478873   \n",
              "2       425.823529  33.975332  1.580645        7.755218   36.269450   \n",
              "\n",
              "       Card Debt  Other Debt  Defaulted  DebtIncomeRatio  \n",
              "Final                                                     \n",
              "0       1.709017    2.946707   0.923410        14.388398  \n",
              "1       4.174197    8.059282   0.185352        13.746479  \n",
              "2       0.831554    1.782135   0.054568         7.760152  "
            ]
          },
          "execution_count": 59,
          "metadata": {},
          "output_type": "execute_result"
        }
      ]
    },
    {
      "cell_type": "code",
      "metadata": {
        "id": "deb68773"
      },
      "source": [
        "plt.sctater(X3[])"
      ],
      "id": "deb68773",
      "execution_count": null,
      "outputs": []
    }
  ]
}