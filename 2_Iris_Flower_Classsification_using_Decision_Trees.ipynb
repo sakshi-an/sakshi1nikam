{
  "nbformat": 4,
  "nbformat_minor": 0,
  "metadata": {
    "kernelspec": {
      "display_name": "Python 3",
      "language": "python",
      "name": "python3"
    },
    "language_info": {
      "codemirror_mode": {
        "name": "ipython",
        "version": 3
      },
      "file_extension": ".py",
      "mimetype": "text/x-python",
      "name": "python",
      "nbconvert_exporter": "python",
      "pygments_lexer": "ipython3",
      "version": "3.7.4"
    },
    "colab": {
      "name": "2_Iris_Flower_Classsification_using_Decision_Trees.ipynb",
      "provenance": []
    }
  },
  "cells": [
    {
      "cell_type": "markdown",
      "metadata": {
        "id": "5A7vM0CZ7hAY"
      },
      "source": [
        "## Overview\n",
        "Features in the Iris dataset:\n",
        "– sepal length (cm)\n",
        "– sepal width (cm)\n",
        "– petal length (cm)\n",
        "– petal width (cm)\n",
        "• Target classes to predict:\n",
        "– Setosa\n",
        "– Versicolour\n",
        "– Virginica"
      ]
    },
    {
      "cell_type": "code",
      "metadata": {
        "id": "yCYph6hu7hAh"
      },
      "source": [
        "import sklearn \n",
        "import numpy as np\n",
        "import matplotlib\n",
        "import matplotlib.pyplot as plt"
      ],
      "execution_count": null,
      "outputs": []
    },
    {
      "cell_type": "code",
      "metadata": {
        "id": "bnvsLqfa7hAl"
      },
      "source": [
        "from sklearn import datasets\n",
        "abc=datasets.load_iris()\n",
        "x=abc.data  # Samples in iris i.e.150 images\n",
        "y=abc.target"
      ],
      "execution_count": null,
      "outputs": []
    },
    {
      "cell_type": "code",
      "metadata": {
        "id": "I7vhuzig7hAo",
        "colab": {
          "base_uri": "https://localhost:8080/"
        },
        "outputId": "c208c35b-b9c4-463d-8391-06f9355eb130"
      },
      "source": [
        "print(abc.target_names)"
      ],
      "execution_count": null,
      "outputs": [
        {
          "output_type": "stream",
          "name": "stdout",
          "text": [
            "['setosa' 'versicolor' 'virginica']\n"
          ]
        }
      ]
    },
    {
      "cell_type": "code",
      "metadata": {
        "id": "c_kV9Y727hAs",
        "colab": {
          "base_uri": "https://localhost:8080/"
        },
        "outputId": "a9dbd486-11f6-4799-cb45-c472fca69b0e"
      },
      "source": [
        "abc.data[51:60]"
      ],
      "execution_count": null,
      "outputs": [
        {
          "output_type": "execute_result",
          "data": {
            "text/plain": [
              "array([[6.4, 3.2, 4.5, 1.5],\n",
              "       [6.9, 3.1, 4.9, 1.5],\n",
              "       [5.5, 2.3, 4. , 1.3],\n",
              "       [6.5, 2.8, 4.6, 1.5],\n",
              "       [5.7, 2.8, 4.5, 1.3],\n",
              "       [6.3, 3.3, 4.7, 1.6],\n",
              "       [4.9, 2.4, 3.3, 1. ],\n",
              "       [6.6, 2.9, 4.6, 1.3],\n",
              "       [5.2, 2.7, 3.9, 1.4]])"
            ]
          },
          "metadata": {},
          "execution_count": 36
        }
      ]
    },
    {
      "cell_type": "markdown",
      "metadata": {
        "id": "WsYPzxMw7hAv"
      },
      "source": [
        "Here 150 images are sliced in 150\n",
        "150 are then split into train and test\n",
        "135 for train\n",
        "15 for test\n",
        "test_size=0.10  10 % test 90 % \n"
      ]
    },
    {
      "cell_type": "code",
      "metadata": {
        "id": "jXvE_aRo7hAx",
        "colab": {
          "base_uri": "https://localhost:8080/"
        },
        "outputId": "4f48ba62-50e2-4af7-d71b-3b138468e2c4"
      },
      "source": [
        "abc.target[51:60]"
      ],
      "execution_count": null,
      "outputs": [
        {
          "output_type": "execute_result",
          "data": {
            "text/plain": [
              "array([1, 1, 1, 1, 1, 1, 1, 1, 1])"
            ]
          },
          "metadata": {},
          "execution_count": 37
        }
      ]
    },
    {
      "cell_type": "code",
      "metadata": {
        "id": "SiqFmYcN7hA0"
      },
      "source": [
        "from sklearn.model_selection import train_test_split\n",
        "x_train, x_test, y_train, y_test = train_test_split(x, y, test_size=0.300, random_state=33)"
      ],
      "execution_count": null,
      "outputs": []
    },
    {
      "cell_type": "code",
      "metadata": {
        "id": "_EBreYrGANU5"
      },
      "source": [
        "from sklearn import tree\n",
        "clf=tree.DecisionTreeClassifier()\n",
        "clf\n",
        "clf=clf.fit(x_train,y_train)"
      ],
      "execution_count": null,
      "outputs": []
    },
    {
      "cell_type": "code",
      "metadata": {
        "id": "ETc5xoy8Ak5h",
        "colab": {
          "base_uri": "https://localhost:8080/",
          "height": 532
        },
        "outputId": "0f3e9819-d541-4a93-81f8-5915bae3fbd2"
      },
      "source": [
        "tree.plot_tree(clf)"
      ],
      "execution_count": null,
      "outputs": [
        {
          "output_type": "execute_result",
          "data": {
            "text/plain": [
              "[Text(181.35000000000002, 199.32, 'X[3] <= 0.8\\ngini = 0.664\\nsamples = 105\\nvalue = [39, 35, 31]'),\n",
              " Text(153.45000000000002, 163.07999999999998, 'gini = 0.0\\nsamples = 39\\nvalue = [39, 0, 0]'),\n",
              " Text(209.25000000000003, 163.07999999999998, 'X[3] <= 1.75\\ngini = 0.498\\nsamples = 66\\nvalue = [0, 35, 31]'),\n",
              " Text(139.5, 126.83999999999999, 'X[2] <= 5.05\\ngini = 0.149\\nsamples = 37\\nvalue = [0, 34, 3]'),\n",
              " Text(83.7, 90.6, 'X[0] <= 4.95\\ngini = 0.057\\nsamples = 34\\nvalue = [0, 33, 1]'),\n",
              " Text(55.800000000000004, 54.359999999999985, 'X[2] <= 3.9\\ngini = 0.5\\nsamples = 2\\nvalue = [0, 1, 1]'),\n",
              " Text(27.900000000000002, 18.119999999999976, 'gini = 0.0\\nsamples = 1\\nvalue = [0, 1, 0]'),\n",
              " Text(83.7, 18.119999999999976, 'gini = 0.0\\nsamples = 1\\nvalue = [0, 0, 1]'),\n",
              " Text(111.60000000000001, 54.359999999999985, 'gini = 0.0\\nsamples = 32\\nvalue = [0, 32, 0]'),\n",
              " Text(195.3, 90.6, 'X[1] <= 2.75\\ngini = 0.444\\nsamples = 3\\nvalue = [0, 1, 2]'),\n",
              " Text(167.4, 54.359999999999985, 'gini = 0.0\\nsamples = 1\\nvalue = [0, 1, 0]'),\n",
              " Text(223.20000000000002, 54.359999999999985, 'gini = 0.0\\nsamples = 2\\nvalue = [0, 0, 2]'),\n",
              " Text(279.0, 126.83999999999999, 'X[2] <= 4.85\\ngini = 0.067\\nsamples = 29\\nvalue = [0, 1, 28]'),\n",
              " Text(251.10000000000002, 90.6, 'gini = 0.0\\nsamples = 1\\nvalue = [0, 1, 0]'),\n",
              " Text(306.90000000000003, 90.6, 'gini = 0.0\\nsamples = 28\\nvalue = [0, 0, 28]')]"
            ]
          },
          "metadata": {},
          "execution_count": 53
        },
        {
          "output_type": "display_data",
          "data": {
            "image/png": "[encoded data removed]",
            "text/plain": [
              "<Figure size 432x288 with 1 Axes>"
            ]
          },
          "metadata": {
            "needs_background": "light"
          }
        }
      ]
    },
    {
      "cell_type": "code",
      "metadata": {
        "id": "5vkfTMtA7hA7"
      },
      "source": [
        "y_pred = clf.predict(x_test)"
      ],
      "execution_count": null,
      "outputs": []
    },
    {
      "cell_type": "code",
      "metadata": {
        "id": "fK16exK57hA9",
        "colab": {
          "base_uri": "https://localhost:8080/"
        },
        "outputId": "ee6717d5-dd56-4793-94b9-44c353129f13"
      },
      "source": [
        "print(x_test)"
      ],
      "execution_count": null,
      "outputs": [
        {
          "output_type": "stream",
          "name": "stdout",
          "text": [
            "[[5.7 2.9 4.2 1.3]\n",
            " [6.7 3.1 4.4 1.4]\n",
            " [4.7 3.2 1.6 0.2]\n",
            " [6.5 2.8 4.6 1.5]\n",
            " [6.1 2.6 5.6 1.4]\n",
            " [6.3 3.3 6.  2.5]\n",
            " [4.8 3.4 1.9 0.2]\n",
            " [5.1 3.5 1.4 0.3]\n",
            " [6.4 3.1 5.5 1.8]\n",
            " [6.9 3.2 5.7 2.3]\n",
            " [6.8 3.2 5.9 2.3]\n",
            " [4.4 3.  1.3 0.2]\n",
            " [6.3 3.4 5.6 2.4]\n",
            " [6.1 2.9 4.7 1.4]\n",
            " [6.9 3.1 5.1 2.3]\n",
            " [6.4 2.9 4.3 1.3]\n",
            " [6.  3.  4.8 1.8]\n",
            " [5.2 3.5 1.5 0.2]\n",
            " [6.3 3.3 4.7 1.6]\n",
            " [7.2 3.2 6.  1.8]\n",
            " [4.9 3.1 1.5 0.1]\n",
            " [5.7 3.8 1.7 0.3]\n",
            " [6.5 3.  5.8 2.2]\n",
            " [4.8 3.  1.4 0.1]\n",
            " [6.  2.2 5.  1.5]\n",
            " [6.2 2.8 4.8 1.8]\n",
            " [6.1 3.  4.6 1.4]\n",
            " [6.1 2.8 4.  1.3]\n",
            " [6.5 3.  5.2 2. ]\n",
            " [5.9 3.  5.1 1.8]\n",
            " [5.6 2.7 4.2 1.3]\n",
            " [6.7 3.1 4.7 1.5]\n",
            " [5.6 2.8 4.9 2. ]\n",
            " [6.4 3.2 5.3 2.3]\n",
            " [6.7 3.1 5.6 2.4]\n",
            " [6.7 3.  5.2 2.3]\n",
            " [5.8 2.7 5.1 1.9]\n",
            " [5.7 3.  4.2 1.2]\n",
            " [5.  2.3 3.3 1. ]\n",
            " [4.9 3.1 1.5 0.2]\n",
            " [6.3 2.3 4.4 1.3]\n",
            " [5.8 2.6 4.  1.2]\n",
            " [6.2 2.9 4.3 1.3]\n",
            " [4.7 3.2 1.3 0.2]\n",
            " [4.6 3.4 1.4 0.3]]\n"
          ]
        }
      ]
    },
    {
      "cell_type": "code",
      "metadata": {
        "id": "hdnG8vx17hA_",
        "colab": {
          "base_uri": "https://localhost:8080/"
        },
        "outputId": "c95905ca-c323-44ef-c154-277ef0293540"
      },
      "source": [
        "print(y_pred)"
      ],
      "execution_count": null,
      "outputs": [
        {
          "output_type": "stream",
          "name": "stdout",
          "text": [
            "[1 1 0 1 1 2 0 0 2 2 2 0 2 1 2 1 1 0 1 2 0 0 2 0 1 1 1 1 2 2 1 1 2 2 2 2 2\n",
            " 1 1 0 1 1 1 0 0]\n"
          ]
        }
      ]
    },
    {
      "cell_type": "code",
      "metadata": {
        "id": "sZ3flrAs7hBB",
        "colab": {
          "base_uri": "https://localhost:8080/"
        },
        "outputId": "31386147-1165-44fd-fe8c-90a1b64d2d0c"
      },
      "source": [
        "print(x_train.shape)\n",
        "print(x_test.shape)\n",
        "print(x_train.shape)\n",
        "print(y_test.shape)"
      ],
      "execution_count": null,
      "outputs": [
        {
          "output_type": "stream",
          "name": "stdout",
          "text": [
            "(105, 4)\n",
            "(45, 4)\n",
            "(105, 4)\n",
            "(45,)\n"
          ]
        }
      ]
    },
    {
      "cell_type": "code",
      "metadata": {
        "id": "mo43vgdO7hBD",
        "colab": {
          "base_uri": "https://localhost:8080/"
        },
        "outputId": "be698296-485c-426d-c551-9dc26c82e5c4"
      },
      "source": [
        "y_pred[20]\n",
        "\n",
        "if (y_pred[20]==0):\n",
        "    print(abc.target_names[0])\n",
        "elif(y_pred[20]==1):\n",
        "    print(abc.target_names[1])\n",
        "else:\n",
        "    print(abc.target_names[2])\n",
        "        "
      ],
      "execution_count": null,
      "outputs": [
        {
          "output_type": "stream",
          "name": "stdout",
          "text": [
            "setosa\n"
          ]
        }
      ]
    },
    {
      "cell_type": "code",
      "metadata": {
        "colab": {
          "base_uri": "https://localhost:8080/"
        },
        "id": "uBBJngD8Bf-e",
        "outputId": "cb17c6f9-2ecf-43e9-893b-8c43b4f44b75"
      },
      "source": [
        "y_test[20]"
      ],
      "execution_count": null,
      "outputs": [
        {
          "output_type": "execute_result",
          "data": {
            "text/plain": [
              "0"
            ]
          },
          "metadata": {},
          "execution_count": 45
        }
      ]
    },
    {
      "cell_type": "code",
      "metadata": {
        "id": "TV-fQZYS7hBF",
        "colab": {
          "base_uri": "https://localhost:8080/"
        },
        "outputId": "333ab3ca-a909-4ada-c517-891893fecbfc"
      },
      "source": [
        "# Training Accuracy\n",
        "from sklearn import metrics\n",
        "y_train_pred = clf.predict(x_train)\n",
        "print(metrics.accuracy_score(y_train, y_train_pred))"
      ],
      "execution_count": null,
      "outputs": [
        {
          "output_type": "stream",
          "name": "stdout",
          "text": [
            "1.0\n"
          ]
        }
      ]
    },
    {
      "cell_type": "code",
      "metadata": {
        "id": "Pl6uS-n47hBH",
        "colab": {
          "base_uri": "https://localhost:8080/"
        },
        "outputId": "32457515-079a-4897-c3a2-ef794f07a422"
      },
      "source": [
        "#Testing Accuracy\n",
        "y_pred = clf.predict(x_test)\n",
        "print (metrics.accuracy_score(y_test, y_pred))"
      ],
      "execution_count": null,
      "outputs": [
        {
          "output_type": "stream",
          "name": "stdout",
          "text": [
            "0.9111111111111111\n"
          ]
        }
      ]
    },
    {
      "cell_type": "code",
      "metadata": {
        "id": "o4e2GsJd7hBJ"
      },
      "source": [
        "predicted = clf.predict(x_test[0:10])\n",
        "expected = y_test[0:10]"
      ],
      "execution_count": null,
      "outputs": []
    },
    {
      "cell_type": "code",
      "metadata": {
        "id": "gqjoLVrT7hBK",
        "colab": {
          "base_uri": "https://localhost:8080/"
        },
        "outputId": "1fd6cea5-3f3b-4daf-8954-b7926227ca0e"
      },
      "source": [
        "print(predicted)"
      ],
      "execution_count": null,
      "outputs": [
        {
          "output_type": "stream",
          "name": "stdout",
          "text": [
            "[1 1 0 1 1 2 0 0 2 2]\n"
          ]
        }
      ]
    },
    {
      "cell_type": "code",
      "metadata": {
        "id": "0iBQL--C7hBL",
        "colab": {
          "base_uri": "https://localhost:8080/"
        },
        "outputId": "4b5c2c90-a943-479e-d8d2-3705ee25d8b7"
      },
      "source": [
        "print(expected)"
      ],
      "execution_count": null,
      "outputs": [
        {
          "output_type": "stream",
          "name": "stdout",
          "text": [
            "[1 1 0 1 2 2 0 0 2 2]\n"
          ]
        }
      ]
    },
    {
      "cell_type": "code",
      "metadata": {
        "id": "c15t2YTJ7hBN",
        "colab": {
          "base_uri": "https://localhost:8080/"
        },
        "outputId": "307b4cc8-9dd6-4080-a3fc-acf271a71bdb"
      },
      "source": [
        "# Training Accuracy\n",
        "from sklearn import metrics\n",
        "y_train_pred = clf.predict(x_train)\n",
        "print(metrics.accuracy_score(y_train, y_train_pred))"
      ],
      "execution_count": null,
      "outputs": [
        {
          "output_type": "stream",
          "name": "stdout",
          "text": [
            "1.0\n"
          ]
        }
      ]
    },
    {
      "cell_type": "code",
      "metadata": {
        "id": "3jTujDnl7hBP",
        "colab": {
          "base_uri": "https://localhost:8080/"
        },
        "outputId": "71d8b451-af73-49b4-a673-4e1ac7f5b740"
      },
      "source": [
        "#Testing Accuracy \n",
        "y_pred = clf.predict(x_test)\n",
        "print (metrics.accuracy_score(y_test, y_pred))"
      ],
      "execution_count": null,
      "outputs": [
        {
          "output_type": "stream",
          "name": "stdout",
          "text": [
            "0.9111111111111111\n"
          ]
        }
      ]
    }
  ]
}